{
  "nbformat": 4,
  "nbformat_minor": 0,
  "metadata": {
    "colab": {
      "name": "Week5_200968064.ipynb",
      "provenance": [],
      "collapsed_sections": []
    },
    "kernelspec": {
      "name": "python3",
      "display_name": "Python 3"
    },
    "language_info": {
      "name": "python"
    },
    "accelerator": "GPU",
    "gpuClass": "standard"
  },
  "cells": [
    {
      "cell_type": "code",
      "execution_count": 1,
      "metadata": {
        "id": "AV0v7nViAnie",
        "colab": {
          "base_uri": "https://localhost:8080/"
        },
        "outputId": "aae5848b-f37a-4b73-8b85-e213da4a7c80"
      },
      "outputs": [
        {
          "output_type": "stream",
          "name": "stdout",
          "text": [
            "Looking in indexes: https://pypi.org/simple, https://us-python.pkg.dev/colab-wheels/public/simple/\n",
            "Requirement already satisfied: fast_ml in /usr/local/lib/python3.7/dist-packages (3.68)\n"
          ]
        }
      ],
      "source": [
        "# Importing Libraries\n",
        "import numpy as np\n",
        "import pandas as pd\n",
        "import tensorflow as tf\n",
        "from sklearn import datasets\n",
        "from sklearn.preprocessing import StandardScaler\n",
        "import matplotlib.pyplot as plt\n",
        "import seaborn as sns\n",
        "from tensorflow.keras.models import Sequential\n",
        "from tensorflow.keras.layers import Dense\n",
        "from tensorflow.keras import regularizers\n",
        "import keras\n",
        "!pip install fast_ml\n",
        "from fast_ml.model_development import train_valid_test_split"
      ]
    },
    {
      "cell_type": "code",
      "source": [
        "dataset = datasets.fetch_california_housing()\n",
        "df = pd.DataFrame(data=dataset.data, columns=dataset.feature_names)\n",
        "df['target'] = dataset.target\n",
        "df"
      ],
      "metadata": {
        "colab": {
          "base_uri": "https://localhost:8080/",
          "height": 424
        },
        "id": "REOvi1NvBUDO",
        "outputId": "315eee6a-a94d-4b49-e12c-588c9b2ac5fa"
      },
      "execution_count": 2,
      "outputs": [
        {
          "output_type": "execute_result",
          "data": {
            "text/plain": [
              "       MedInc  HouseAge  AveRooms  AveBedrms  Population  AveOccup  Latitude  \\\n",
              "0      8.3252      41.0  6.984127   1.023810       322.0  2.555556     37.88   \n",
              "1      8.3014      21.0  6.238137   0.971880      2401.0  2.109842     37.86   \n",
              "2      7.2574      52.0  8.288136   1.073446       496.0  2.802260     37.85   \n",
              "3      5.6431      52.0  5.817352   1.073059       558.0  2.547945     37.85   \n",
              "4      3.8462      52.0  6.281853   1.081081       565.0  2.181467     37.85   \n",
              "...       ...       ...       ...        ...         ...       ...       ...   \n",
              "20635  1.5603      25.0  5.045455   1.133333       845.0  2.560606     39.48   \n",
              "20636  2.5568      18.0  6.114035   1.315789       356.0  3.122807     39.49   \n",
              "20637  1.7000      17.0  5.205543   1.120092      1007.0  2.325635     39.43   \n",
              "20638  1.8672      18.0  5.329513   1.171920       741.0  2.123209     39.43   \n",
              "20639  2.3886      16.0  5.254717   1.162264      1387.0  2.616981     39.37   \n",
              "\n",
              "       Longitude  target  \n",
              "0        -122.23   4.526  \n",
              "1        -122.22   3.585  \n",
              "2        -122.24   3.521  \n",
              "3        -122.25   3.413  \n",
              "4        -122.25   3.422  \n",
              "...          ...     ...  \n",
              "20635    -121.09   0.781  \n",
              "20636    -121.21   0.771  \n",
              "20637    -121.22   0.923  \n",
              "20638    -121.32   0.847  \n",
              "20639    -121.24   0.894  \n",
              "\n",
              "[20640 rows x 9 columns]"
            ],
            "text/html": [
              "\n",
              "  <div id=\"df-0663553d-23a4-4990-8179-7644a01d1147\">\n",
              "    <div class=\"colab-df-container\">\n",
              "      <div>\n",
              "<style scoped>\n",
              "    .dataframe tbody tr th:only-of-type {\n",
              "        vertical-align: middle;\n",
              "    }\n",
              "\n",
              "    .dataframe tbody tr th {\n",
              "        vertical-align: top;\n",
              "    }\n",
              "\n",
              "    .dataframe thead th {\n",
              "        text-align: right;\n",
              "    }\n",
              "</style>\n",
              "<table border=\"1\" class=\"dataframe\">\n",
              "  <thead>\n",
              "    <tr style=\"text-align: right;\">\n",
              "      <th></th>\n",
              "      <th>MedInc</th>\n",
              "      <th>HouseAge</th>\n",
              "      <th>AveRooms</th>\n",
              "      <th>AveBedrms</th>\n",
              "      <th>Population</th>\n",
              "      <th>AveOccup</th>\n",
              "      <th>Latitude</th>\n",
              "      <th>Longitude</th>\n",
              "      <th>target</th>\n",
              "    </tr>\n",
              "  </thead>\n",
              "  <tbody>\n",
              "    <tr>\n",
              "      <th>0</th>\n",
              "      <td>8.3252</td>\n",
              "      <td>41.0</td>\n",
              "      <td>6.984127</td>\n",
              "      <td>1.023810</td>\n",
              "      <td>322.0</td>\n",
              "      <td>2.555556</td>\n",
              "      <td>37.88</td>\n",
              "      <td>-122.23</td>\n",
              "      <td>4.526</td>\n",
              "    </tr>\n",
              "    <tr>\n",
              "      <th>1</th>\n",
              "      <td>8.3014</td>\n",
              "      <td>21.0</td>\n",
              "      <td>6.238137</td>\n",
              "      <td>0.971880</td>\n",
              "      <td>2401.0</td>\n",
              "      <td>2.109842</td>\n",
              "      <td>37.86</td>\n",
              "      <td>-122.22</td>\n",
              "      <td>3.585</td>\n",
              "    </tr>\n",
              "    <tr>\n",
              "      <th>2</th>\n",
              "      <td>7.2574</td>\n",
              "      <td>52.0</td>\n",
              "      <td>8.288136</td>\n",
              "      <td>1.073446</td>\n",
              "      <td>496.0</td>\n",
              "      <td>2.802260</td>\n",
              "      <td>37.85</td>\n",
              "      <td>-122.24</td>\n",
              "      <td>3.521</td>\n",
              "    </tr>\n",
              "    <tr>\n",
              "      <th>3</th>\n",
              "      <td>5.6431</td>\n",
              "      <td>52.0</td>\n",
              "      <td>5.817352</td>\n",
              "      <td>1.073059</td>\n",
              "      <td>558.0</td>\n",
              "      <td>2.547945</td>\n",
              "      <td>37.85</td>\n",
              "      <td>-122.25</td>\n",
              "      <td>3.413</td>\n",
              "    </tr>\n",
              "    <tr>\n",
              "      <th>4</th>\n",
              "      <td>3.8462</td>\n",
              "      <td>52.0</td>\n",
              "      <td>6.281853</td>\n",
              "      <td>1.081081</td>\n",
              "      <td>565.0</td>\n",
              "      <td>2.181467</td>\n",
              "      <td>37.85</td>\n",
              "      <td>-122.25</td>\n",
              "      <td>3.422</td>\n",
              "    </tr>\n",
              "    <tr>\n",
              "      <th>...</th>\n",
              "      <td>...</td>\n",
              "      <td>...</td>\n",
              "      <td>...</td>\n",
              "      <td>...</td>\n",
              "      <td>...</td>\n",
              "      <td>...</td>\n",
              "      <td>...</td>\n",
              "      <td>...</td>\n",
              "      <td>...</td>\n",
              "    </tr>\n",
              "    <tr>\n",
              "      <th>20635</th>\n",
              "      <td>1.5603</td>\n",
              "      <td>25.0</td>\n",
              "      <td>5.045455</td>\n",
              "      <td>1.133333</td>\n",
              "      <td>845.0</td>\n",
              "      <td>2.560606</td>\n",
              "      <td>39.48</td>\n",
              "      <td>-121.09</td>\n",
              "      <td>0.781</td>\n",
              "    </tr>\n",
              "    <tr>\n",
              "      <th>20636</th>\n",
              "      <td>2.5568</td>\n",
              "      <td>18.0</td>\n",
              "      <td>6.114035</td>\n",
              "      <td>1.315789</td>\n",
              "      <td>356.0</td>\n",
              "      <td>3.122807</td>\n",
              "      <td>39.49</td>\n",
              "      <td>-121.21</td>\n",
              "      <td>0.771</td>\n",
              "    </tr>\n",
              "    <tr>\n",
              "      <th>20637</th>\n",
              "      <td>1.7000</td>\n",
              "      <td>17.0</td>\n",
              "      <td>5.205543</td>\n",
              "      <td>1.120092</td>\n",
              "      <td>1007.0</td>\n",
              "      <td>2.325635</td>\n",
              "      <td>39.43</td>\n",
              "      <td>-121.22</td>\n",
              "      <td>0.923</td>\n",
              "    </tr>\n",
              "    <tr>\n",
              "      <th>20638</th>\n",
              "      <td>1.8672</td>\n",
              "      <td>18.0</td>\n",
              "      <td>5.329513</td>\n",
              "      <td>1.171920</td>\n",
              "      <td>741.0</td>\n",
              "      <td>2.123209</td>\n",
              "      <td>39.43</td>\n",
              "      <td>-121.32</td>\n",
              "      <td>0.847</td>\n",
              "    </tr>\n",
              "    <tr>\n",
              "      <th>20639</th>\n",
              "      <td>2.3886</td>\n",
              "      <td>16.0</td>\n",
              "      <td>5.254717</td>\n",
              "      <td>1.162264</td>\n",
              "      <td>1387.0</td>\n",
              "      <td>2.616981</td>\n",
              "      <td>39.37</td>\n",
              "      <td>-121.24</td>\n",
              "      <td>0.894</td>\n",
              "    </tr>\n",
              "  </tbody>\n",
              "</table>\n",
              "<p>20640 rows × 9 columns</p>\n",
              "</div>\n",
              "      <button class=\"colab-df-convert\" onclick=\"convertToInteractive('df-0663553d-23a4-4990-8179-7644a01d1147')\"\n",
              "              title=\"Convert this dataframe to an interactive table.\"\n",
              "              style=\"display:none;\">\n",
              "        \n",
              "  <svg xmlns=\"http://www.w3.org/2000/svg\" height=\"24px\"viewBox=\"0 0 24 24\"\n",
              "       width=\"24px\">\n",
              "    <path d=\"M0 0h24v24H0V0z\" fill=\"none\"/>\n",
              "    <path d=\"M18.56 5.44l.94 2.06.94-2.06 2.06-.94-2.06-.94-.94-2.06-.94 2.06-2.06.94zm-11 1L8.5 8.5l.94-2.06 2.06-.94-2.06-.94L8.5 2.5l-.94 2.06-2.06.94zm10 10l.94 2.06.94-2.06 2.06-.94-2.06-.94-.94-2.06-.94 2.06-2.06.94z\"/><path d=\"M17.41 7.96l-1.37-1.37c-.4-.4-.92-.59-1.43-.59-.52 0-1.04.2-1.43.59L10.3 9.45l-7.72 7.72c-.78.78-.78 2.05 0 2.83L4 21.41c.39.39.9.59 1.41.59.51 0 1.02-.2 1.41-.59l7.78-7.78 2.81-2.81c.8-.78.8-2.07 0-2.86zM5.41 20L4 18.59l7.72-7.72 1.47 1.35L5.41 20z\"/>\n",
              "  </svg>\n",
              "      </button>\n",
              "      \n",
              "  <style>\n",
              "    .colab-df-container {\n",
              "      display:flex;\n",
              "      flex-wrap:wrap;\n",
              "      gap: 12px;\n",
              "    }\n",
              "\n",
              "    .colab-df-convert {\n",
              "      background-color: #E8F0FE;\n",
              "      border: none;\n",
              "      border-radius: 50%;\n",
              "      cursor: pointer;\n",
              "      display: none;\n",
              "      fill: #1967D2;\n",
              "      height: 32px;\n",
              "      padding: 0 0 0 0;\n",
              "      width: 32px;\n",
              "    }\n",
              "\n",
              "    .colab-df-convert:hover {\n",
              "      background-color: #E2EBFA;\n",
              "      box-shadow: 0px 1px 2px rgba(60, 64, 67, 0.3), 0px 1px 3px 1px rgba(60, 64, 67, 0.15);\n",
              "      fill: #174EA6;\n",
              "    }\n",
              "\n",
              "    [theme=dark] .colab-df-convert {\n",
              "      background-color: #3B4455;\n",
              "      fill: #D2E3FC;\n",
              "    }\n",
              "\n",
              "    [theme=dark] .colab-df-convert:hover {\n",
              "      background-color: #434B5C;\n",
              "      box-shadow: 0px 1px 3px 1px rgba(0, 0, 0, 0.15);\n",
              "      filter: drop-shadow(0px 1px 2px rgba(0, 0, 0, 0.3));\n",
              "      fill: #FFFFFF;\n",
              "    }\n",
              "  </style>\n",
              "\n",
              "      <script>\n",
              "        const buttonEl =\n",
              "          document.querySelector('#df-0663553d-23a4-4990-8179-7644a01d1147 button.colab-df-convert');\n",
              "        buttonEl.style.display =\n",
              "          google.colab.kernel.accessAllowed ? 'block' : 'none';\n",
              "\n",
              "        async function convertToInteractive(key) {\n",
              "          const element = document.querySelector('#df-0663553d-23a4-4990-8179-7644a01d1147');\n",
              "          const dataTable =\n",
              "            await google.colab.kernel.invokeFunction('convertToInteractive',\n",
              "                                                     [key], {});\n",
              "          if (!dataTable) return;\n",
              "\n",
              "          const docLinkHtml = 'Like what you see? Visit the ' +\n",
              "            '<a target=\"_blank\" href=https://colab.research.google.com/notebooks/data_table.ipynb>data table notebook</a>'\n",
              "            + ' to learn more about interactive tables.';\n",
              "          element.innerHTML = '';\n",
              "          dataTable['output_type'] = 'display_data';\n",
              "          await google.colab.output.renderOutput(dataTable, element);\n",
              "          const docLink = document.createElement('div');\n",
              "          docLink.innerHTML = docLinkHtml;\n",
              "          element.appendChild(docLink);\n",
              "        }\n",
              "      </script>\n",
              "    </div>\n",
              "  </div>\n",
              "  "
            ]
          },
          "metadata": {},
          "execution_count": 2
        }
      ]
    },
    {
      "cell_type": "code",
      "source": [
        "\n",
        "x_train, y_train, x_valid, y_valid, x_test, y_test = train_valid_test_split(df, target = 'target', train_size=0.7, valid_size=0.15, test_size=0.15)\n",
        "\n",
        "scaler = StandardScaler()\n",
        "x_train = scaler.fit_transform(x_train)\n",
        "x_valid = scaler.transform(x_valid)\n",
        "x_test = scaler.transform(x_test)"
      ],
      "metadata": {
        "id": "kjSVJgElFHP7"
      },
      "execution_count": 3,
      "outputs": []
    },
    {
      "cell_type": "markdown",
      "source": [
        "## Model 1"
      ],
      "metadata": {
        "id": "-FRW94WDZ6Ts"
      }
    },
    {
      "cell_type": "code",
      "source": [
        "# Regression MLP\n",
        "model = Sequential()\n",
        "model.add(tf.keras.layers.Dense(8,input_shape=(8,),activation='relu'))\n",
        "model.add(tf.keras.layers.Dense(30,activation = 'relu'))\n",
        "model.add(tf.keras.layers.Dense(1,activation = 'linear'))"
      ],
      "metadata": {
        "id": "pauw8Cm2HjF9"
      },
      "execution_count": 4,
      "outputs": []
    },
    {
      "cell_type": "code",
      "source": [
        "model.summary()"
      ],
      "metadata": {
        "colab": {
          "base_uri": "https://localhost:8080/"
        },
        "id": "YfrD8UiJHupc",
        "outputId": "d6017b78-c720-4ec9-9992-66b9a3de36e2"
      },
      "execution_count": 5,
      "outputs": [
        {
          "output_type": "stream",
          "name": "stdout",
          "text": [
            "Model: \"sequential\"\n",
            "_________________________________________________________________\n",
            " Layer (type)                Output Shape              Param #   \n",
            "=================================================================\n",
            " dense (Dense)               (None, 8)                 72        \n",
            "                                                                 \n",
            " dense_1 (Dense)             (None, 30)                270       \n",
            "                                                                 \n",
            " dense_2 (Dense)             (None, 1)                 31        \n",
            "                                                                 \n",
            "=================================================================\n",
            "Total params: 373\n",
            "Trainable params: 373\n",
            "Non-trainable params: 0\n",
            "_________________________________________________________________\n"
          ]
        }
      ]
    },
    {
      "cell_type": "code",
      "source": [
        "optimizer = tf.keras.optimizers.Adam(lr=0.001)\n",
        "model.compile(loss='mean_squared_error', optimizer=optimizer, metrics=['mse'])"
      ],
      "metadata": {
        "id": "CoBblHoDHzs8"
      },
      "execution_count": 6,
      "outputs": []
    },
    {
      "cell_type": "code",
      "source": [
        "history = model.fit(x_train, y_train, epochs=20,validation_data=(x_valid, y_valid))"
      ],
      "metadata": {
        "colab": {
          "base_uri": "https://localhost:8080/"
        },
        "id": "K64i9sQxH3IF",
        "outputId": "b06f52b5-94ee-49dc-f83a-e3d239ad4c37"
      },
      "execution_count": 7,
      "outputs": [
        {
          "output_type": "stream",
          "name": "stdout",
          "text": [
            "Epoch 1/20\n",
            "452/452 [==============================] - 2s 3ms/step - loss: 1.5728 - mse: 1.5728 - val_loss: 0.6106 - val_mse: 0.6106\n",
            "Epoch 2/20\n",
            "452/452 [==============================] - 1s 3ms/step - loss: 0.5714 - mse: 0.5714 - val_loss: 0.4752 - val_mse: 0.4752\n",
            "Epoch 3/20\n",
            "452/452 [==============================] - 1s 3ms/step - loss: 0.4663 - mse: 0.4663 - val_loss: 0.4209 - val_mse: 0.4209\n",
            "Epoch 4/20\n",
            "452/452 [==============================] - 1s 3ms/step - loss: 0.4263 - mse: 0.4263 - val_loss: 0.4036 - val_mse: 0.4036\n",
            "Epoch 5/20\n",
            "452/452 [==============================] - 1s 3ms/step - loss: 0.4079 - mse: 0.4079 - val_loss: 0.3943 - val_mse: 0.3943\n",
            "Epoch 6/20\n",
            "452/452 [==============================] - 1s 3ms/step - loss: 0.3981 - mse: 0.3981 - val_loss: 0.3876 - val_mse: 0.3876\n",
            "Epoch 7/20\n",
            "452/452 [==============================] - 1s 3ms/step - loss: 0.3915 - mse: 0.3915 - val_loss: 0.3827 - val_mse: 0.3827\n",
            "Epoch 8/20\n",
            "452/452 [==============================] - 1s 3ms/step - loss: 0.3881 - mse: 0.3881 - val_loss: 0.3860 - val_mse: 0.3860\n",
            "Epoch 9/20\n",
            "452/452 [==============================] - 1s 3ms/step - loss: 0.3822 - mse: 0.3822 - val_loss: 0.3684 - val_mse: 0.3684\n",
            "Epoch 10/20\n",
            "452/452 [==============================] - 1s 3ms/step - loss: 0.3769 - mse: 0.3769 - val_loss: 0.3713 - val_mse: 0.3713\n",
            "Epoch 11/20\n",
            "452/452 [==============================] - 2s 5ms/step - loss: 0.3702 - mse: 0.3702 - val_loss: 0.3599 - val_mse: 0.3599\n",
            "Epoch 12/20\n",
            "452/452 [==============================] - 2s 5ms/step - loss: 0.3656 - mse: 0.3656 - val_loss: 0.3563 - val_mse: 0.3563\n",
            "Epoch 13/20\n",
            "452/452 [==============================] - 2s 5ms/step - loss: 0.3623 - mse: 0.3623 - val_loss: 0.3620 - val_mse: 0.3620\n",
            "Epoch 14/20\n",
            "452/452 [==============================] - 2s 5ms/step - loss: 0.3570 - mse: 0.3570 - val_loss: 0.3435 - val_mse: 0.3435\n",
            "Epoch 15/20\n",
            "452/452 [==============================] - 2s 5ms/step - loss: 0.3540 - mse: 0.3540 - val_loss: 0.3427 - val_mse: 0.3427\n",
            "Epoch 16/20\n",
            "452/452 [==============================] - 2s 5ms/step - loss: 0.3485 - mse: 0.3485 - val_loss: 0.3367 - val_mse: 0.3367\n",
            "Epoch 17/20\n",
            "452/452 [==============================] - 2s 5ms/step - loss: 0.3553 - mse: 0.3553 - val_loss: 0.3320 - val_mse: 0.3320\n",
            "Epoch 18/20\n",
            "452/452 [==============================] - 2s 5ms/step - loss: 0.3436 - mse: 0.3436 - val_loss: 0.3338 - val_mse: 0.3338\n",
            "Epoch 19/20\n",
            "452/452 [==============================] - 2s 5ms/step - loss: 0.3381 - mse: 0.3381 - val_loss: 0.3303 - val_mse: 0.3303\n",
            "Epoch 20/20\n",
            "452/452 [==============================] - 2s 3ms/step - loss: 0.3356 - mse: 0.3356 - val_loss: 0.3245 - val_mse: 0.3245\n"
          ]
        }
      ]
    },
    {
      "cell_type": "code",
      "source": [
        "print(f''' Model Loss & MSE: ''', model.evaluate(x_test,y_test))"
      ],
      "metadata": {
        "colab": {
          "base_uri": "https://localhost:8080/"
        },
        "id": "krNRHk31H8B1",
        "outputId": "2de7ffdb-a608-42f4-84bc-241df1b65d23"
      },
      "execution_count": 8,
      "outputs": [
        {
          "output_type": "stream",
          "name": "stdout",
          "text": [
            "97/97 [==============================] - 0s 2ms/step - loss: 0.3137 - mse: 0.3137\n",
            " Model Loss & MSE:  [0.31368279457092285, 0.31368279457092285]\n"
          ]
        }
      ]
    },
    {
      "cell_type": "code",
      "source": [
        "#plot for model mse\n",
        "plt.plot(history.history['mse'])\n",
        "plt.plot(history.history['val_mse'])\n",
        "plt.title('Model MSE')\n",
        "plt.ylabel('MSE')\n",
        "plt.xlabel('Epoch')\n",
        "plt.legend(['Train MSE', 'Validation MSE'])\n",
        "plt.show()"
      ],
      "metadata": {
        "colab": {
          "base_uri": "https://localhost:8080/",
          "height": 295
        },
        "id": "I5XIZwy1g2q9",
        "outputId": "b54692c9-5090-4fdc-dbe1-fedc1060a08e"
      },
      "execution_count": 9,
      "outputs": [
        {
          "output_type": "display_data",
          "data": {
            "text/plain": [
              "<Figure size 432x288 with 1 Axes>"
            ],
            "image/png": "[encoded data removed]"
          },
          "metadata": {
            "needs_background": "light"
          }
        }
      ]
    },
    {
      "cell_type": "markdown",
      "source": [
        "## Model 2"
      ],
      "metadata": {
        "id": "QyraJ8QWfdq9"
      }
    },
    {
      "cell_type": "code",
      "source": [
        "# Deep and Wide neural network\n",
        "input = keras.layers.Input(shape=x_train.shape[1:])\n",
        "hidden1 = keras.layers.Dense(30, activation=\"relu\")(input)\n",
        "hidden2 = keras.layers.Dense(30, activation=\"relu\")(hidden1)\n",
        "concat = keras.layers.concatenate([input, hidden2])\n",
        "output = keras.layers.Dense(1)(concat)\n",
        "model2 = keras.models.Model(inputs=[input], outputs=[output])"
      ],
      "metadata": {
        "id": "la-pwhADIi79"
      },
      "execution_count": 10,
      "outputs": []
    },
    {
      "cell_type": "code",
      "source": [
        "model2.summary()"
      ],
      "metadata": {
        "colab": {
          "base_uri": "https://localhost:8080/"
        },
        "id": "Phwtz0WFhULc",
        "outputId": "63ac4575-00cb-4450-f03b-db9adb0429ce"
      },
      "execution_count": 11,
      "outputs": [
        {
          "output_type": "stream",
          "name": "stdout",
          "text": [
            "Model: \"model\"\n",
            "__________________________________________________________________________________________________\n",
            " Layer (type)                   Output Shape         Param #     Connected to                     \n",
            "==================================================================================================\n",
            " input_1 (InputLayer)           [(None, 8)]          0           []                               \n",
            "                                                                                                  \n",
            " dense_3 (Dense)                (None, 30)           270         ['input_1[0][0]']                \n",
            "                                                                                                  \n",
            " dense_4 (Dense)                (None, 30)           930         ['dense_3[0][0]']                \n",
            "                                                                                                  \n",
            " concatenate (Concatenate)      (None, 38)           0           ['input_1[0][0]',                \n",
            "                                                                  'dense_4[0][0]']                \n",
            "                                                                                                  \n",
            " dense_5 (Dense)                (None, 1)            39          ['concatenate[0][0]']            \n",
            "                                                                                                  \n",
            "==================================================================================================\n",
            "Total params: 1,239\n",
            "Trainable params: 1,239\n",
            "Non-trainable params: 0\n",
            "__________________________________________________________________________________________________\n"
          ]
        }
      ]
    },
    {
      "cell_type": "code",
      "source": [
        "optimizer = tf.keras.optimizers.Adam(lr=0.001)\n",
        "model2.compile(loss='mean_squared_error', optimizer=optimizer, metrics=['mse'])"
      ],
      "metadata": {
        "id": "O4qaJdLqh457"
      },
      "execution_count": 12,
      "outputs": []
    },
    {
      "cell_type": "code",
      "source": [
        "history2 = model2.fit(x_train, y_train, epochs=20,validation_data=(x_valid, y_valid))"
      ],
      "metadata": {
        "colab": {
          "base_uri": "https://localhost:8080/"
        },
        "id": "wR1Mp3QbixYz",
        "outputId": "05635f1c-ebd4-40cd-bb44-3c941f227af2"
      },
      "execution_count": 13,
      "outputs": [
        {
          "output_type": "stream",
          "name": "stdout",
          "text": [
            "Epoch 1/20\n",
            "452/452 [==============================] - 2s 3ms/step - loss: 1.0342 - mse: 1.0342 - val_loss: 0.5617 - val_mse: 0.5617\n",
            "Epoch 2/20\n",
            "452/452 [==============================] - 1s 3ms/step - loss: 0.4830 - mse: 0.4830 - val_loss: 0.4145 - val_mse: 0.4145\n",
            "Epoch 3/20\n",
            "452/452 [==============================] - 1s 3ms/step - loss: 0.4315 - mse: 0.4315 - val_loss: 0.4167 - val_mse: 0.4167\n",
            "Epoch 4/20\n",
            "452/452 [==============================] - 1s 3ms/step - loss: 0.3896 - mse: 0.3896 - val_loss: 0.3725 - val_mse: 0.3725\n",
            "Epoch 5/20\n",
            "452/452 [==============================] - 1s 3ms/step - loss: 0.3757 - mse: 0.3757 - val_loss: 0.3545 - val_mse: 0.3545\n",
            "Epoch 6/20\n",
            "452/452 [==============================] - 1s 3ms/step - loss: 0.3579 - mse: 0.3579 - val_loss: 0.3415 - val_mse: 0.3415\n",
            "Epoch 7/20\n",
            "452/452 [==============================] - 1s 3ms/step - loss: 0.3645 - mse: 0.3645 - val_loss: 0.3423 - val_mse: 0.3423\n",
            "Epoch 8/20\n",
            "452/452 [==============================] - 1s 3ms/step - loss: 0.3449 - mse: 0.3449 - val_loss: 0.3423 - val_mse: 0.3423\n",
            "Epoch 9/20\n",
            "452/452 [==============================] - 2s 4ms/step - loss: 0.3534 - mse: 0.3534 - val_loss: 0.3438 - val_mse: 0.3438\n",
            "Epoch 10/20\n",
            "452/452 [==============================] - 2s 5ms/step - loss: 0.3361 - mse: 0.3361 - val_loss: 0.3654 - val_mse: 0.3654\n",
            "Epoch 11/20\n",
            "452/452 [==============================] - 2s 5ms/step - loss: 0.3634 - mse: 0.3634 - val_loss: 0.3183 - val_mse: 0.3183\n",
            "Epoch 12/20\n",
            "452/452 [==============================] - 2s 5ms/step - loss: 0.3348 - mse: 0.3348 - val_loss: 0.3164 - val_mse: 0.3164\n",
            "Epoch 13/20\n",
            "452/452 [==============================] - 2s 5ms/step - loss: 0.3186 - mse: 0.3186 - val_loss: 0.3360 - val_mse: 0.3360\n",
            "Epoch 14/20\n",
            "452/452 [==============================] - 2s 5ms/step - loss: 0.3424 - mse: 0.3424 - val_loss: 0.3082 - val_mse: 0.3082\n",
            "Epoch 15/20\n",
            "452/452 [==============================] - 2s 5ms/step - loss: 0.3264 - mse: 0.3264 - val_loss: 0.3118 - val_mse: 0.3118\n",
            "Epoch 16/20\n",
            "452/452 [==============================] - 2s 5ms/step - loss: 0.3147 - mse: 0.3147 - val_loss: 0.3119 - val_mse: 0.3119\n",
            "Epoch 17/20\n",
            "452/452 [==============================] - 3s 6ms/step - loss: 0.3111 - mse: 0.3111 - val_loss: 0.3048 - val_mse: 0.3048\n",
            "Epoch 18/20\n",
            "452/452 [==============================] - 1s 3ms/step - loss: 0.3105 - mse: 0.3105 - val_loss: 0.3271 - val_mse: 0.3271\n",
            "Epoch 19/20\n",
            "452/452 [==============================] - 1s 3ms/step - loss: 0.3242 - mse: 0.3242 - val_loss: 0.2946 - val_mse: 0.2946\n",
            "Epoch 20/20\n",
            "452/452 [==============================] - 1s 3ms/step - loss: 0.3159 - mse: 0.3159 - val_loss: 0.2984 - val_mse: 0.2984\n"
          ]
        }
      ]
    },
    {
      "cell_type": "code",
      "source": [
        "print(f''' Model Loss & MSE: ''' ,model2.evaluate(x_test,y_test))"
      ],
      "metadata": {
        "colab": {
          "base_uri": "https://localhost:8080/"
        },
        "id": "l1q-s1Txi7oc",
        "outputId": "454c1474-52e6-4b55-cf59-1e9de36fdaf5"
      },
      "execution_count": 14,
      "outputs": [
        {
          "output_type": "stream",
          "name": "stdout",
          "text": [
            "97/97 [==============================] - 0s 2ms/step - loss: 0.2801 - mse: 0.2801\n",
            " Model Loss & MSE:  [0.2801394462585449, 0.2801394462585449]\n"
          ]
        }
      ]
    },
    {
      "cell_type": "code",
      "source": [
        "#Plot for Model MSE\n",
        "plt.plot(history2.history['mse'])\n",
        "plt.plot(history2.history['val_mse'])\n",
        "plt.title('Model MSE')\n",
        "plt.ylabel('MSE')\n",
        "plt.xlabel('Epoch')\n",
        "plt.legend(['Train MSE', 'Validation MSE'])\n",
        "plt.show()"
      ],
      "metadata": {
        "colab": {
          "base_uri": "https://localhost:8080/",
          "height": 295
        },
        "id": "fZJZfC2PjA7L",
        "outputId": "a26aba4d-1e89-4ecd-af6b-546556510922"
      },
      "execution_count": 15,
      "outputs": [
        {
          "output_type": "display_data",
          "data": {
            "text/plain": [
              "<Figure size 432x288 with 1 Axes>"
            ],
            "image/png": "[encoded data removed]"
          },
          "metadata": {
            "needs_background": "light"
          }
        }
      ]
    },
    {
      "cell_type": "markdown",
      "source": [
        "## Model 3"
      ],
      "metadata": {
        "id": "veRNjavOjLa9"
      }
    },
    {
      "cell_type": "code",
      "source": [
        "# Deep and Wide neural network with features splitted and sent into both \n",
        "input_A = keras.layers.Input(shape=[5]) # First 5 features(0-4) into deep layer\n",
        "input_B = keras.layers.Input(shape=[6]) # 6 features(2-7) into wide layer\n",
        "hidden1 = keras.layers.Dense(30, activation=\"relu\")(input_B)\n",
        "hidden2 = keras.layers.Dense(30, activation=\"relu\")(hidden1)\n",
        "concat = keras.layers.concatenate([input_A, hidden2])\n",
        "output = keras.layers.Dense(1)(concat)\n",
        "model3 = keras.models.Model(inputs=[input_A, input_B], outputs=[output])"
      ],
      "metadata": {
        "id": "8PPw0i9ajMm8"
      },
      "execution_count": 16,
      "outputs": []
    },
    {
      "cell_type": "code",
      "source": [
        "optimizer = tf.keras.optimizers.Adam(lr=0.001)\n",
        "model3.compile(loss='mean_squared_error', optimizer=optimizer, metrics=['mse'])"
      ],
      "metadata": {
        "id": "V_aKjRN_k5gu"
      },
      "execution_count": 17,
      "outputs": []
    },
    {
      "cell_type": "code",
      "source": [
        "x_train_A, x_train_B = x_train[:, :5], x_train[:, 2:]\n",
        "x_valid_A, x_valid_B = x_valid[:, :5], x_valid[:, 2:]\n",
        "x_test_A, x_test_B = x_test[:, :5], x_test[:, 2:]\n",
        "x_new_A, x_new_B = x_test_A[:3], x_test_B[:3]\n",
        "\n",
        "history3 = model3.fit((x_train_A, x_train_B), y_train, epochs=20,validation_data=((x_valid_A, x_valid_B), y_valid))"
      ],
      "metadata": {
        "colab": {
          "base_uri": "https://localhost:8080/"
        },
        "id": "zuzEzXyrjteb",
        "outputId": "6a9f8313-9b47-4ecc-c8d3-b3802c5ec853"
      },
      "execution_count": 18,
      "outputs": [
        {
          "output_type": "stream",
          "name": "stdout",
          "text": [
            "Epoch 1/20\n",
            "452/452 [==============================] - 2s 3ms/step - loss: 1.1971 - mse: 1.1971 - val_loss: 0.5327 - val_mse: 0.5327\n",
            "Epoch 2/20\n",
            "452/452 [==============================] - 1s 3ms/step - loss: 0.4730 - mse: 0.4730 - val_loss: 0.4234 - val_mse: 0.4234\n",
            "Epoch 3/20\n",
            "452/452 [==============================] - 1s 3ms/step - loss: 0.4174 - mse: 0.4174 - val_loss: 0.4003 - val_mse: 0.4003\n",
            "Epoch 4/20\n",
            "452/452 [==============================] - 1s 3ms/step - loss: 0.3975 - mse: 0.3975 - val_loss: 0.4144 - val_mse: 0.4144\n",
            "Epoch 5/20\n",
            "452/452 [==============================] - 1s 3ms/step - loss: 0.3888 - mse: 0.3888 - val_loss: 0.3943 - val_mse: 0.3943\n",
            "Epoch 6/20\n",
            "452/452 [==============================] - 1s 3ms/step - loss: 0.3818 - mse: 0.3818 - val_loss: 0.4063 - val_mse: 0.4063\n",
            "Epoch 7/20\n",
            "452/452 [==============================] - 1s 3ms/step - loss: 0.3859 - mse: 0.3859 - val_loss: 0.3599 - val_mse: 0.3599\n",
            "Epoch 8/20\n",
            "452/452 [==============================] - 1s 3ms/step - loss: 0.3597 - mse: 0.3597 - val_loss: 0.3528 - val_mse: 0.3528\n",
            "Epoch 9/20\n",
            "452/452 [==============================] - 1s 3ms/step - loss: 0.3553 - mse: 0.3553 - val_loss: 0.3405 - val_mse: 0.3405\n",
            "Epoch 10/20\n",
            "452/452 [==============================] - 1s 3ms/step - loss: 0.3569 - mse: 0.3569 - val_loss: 0.3462 - val_mse: 0.3462\n",
            "Epoch 11/20\n",
            "452/452 [==============================] - 1s 3ms/step - loss: 0.3434 - mse: 0.3434 - val_loss: 0.3575 - val_mse: 0.3575\n",
            "Epoch 12/20\n",
            "452/452 [==============================] - 1s 3ms/step - loss: 0.3425 - mse: 0.3425 - val_loss: 0.3418 - val_mse: 0.3418\n",
            "Epoch 13/20\n",
            "452/452 [==============================] - 1s 3ms/step - loss: 0.3403 - mse: 0.3403 - val_loss: 0.3408 - val_mse: 0.3408\n",
            "Epoch 14/20\n",
            "452/452 [==============================] - 1s 3ms/step - loss: 0.3381 - mse: 0.3381 - val_loss: 0.3331 - val_mse: 0.3331\n",
            "Epoch 15/20\n",
            "452/452 [==============================] - 1s 3ms/step - loss: 0.3364 - mse: 0.3364 - val_loss: 0.3266 - val_mse: 0.3266\n",
            "Epoch 16/20\n",
            "452/452 [==============================] - 1s 3ms/step - loss: 0.3341 - mse: 0.3341 - val_loss: 0.3314 - val_mse: 0.3314\n",
            "Epoch 17/20\n",
            "452/452 [==============================] - 1s 3ms/step - loss: 0.3351 - mse: 0.3351 - val_loss: 0.3237 - val_mse: 0.3237\n",
            "Epoch 18/20\n",
            "452/452 [==============================] - 1s 3ms/step - loss: 0.3374 - mse: 0.3374 - val_loss: 0.3256 - val_mse: 0.3256\n",
            "Epoch 19/20\n",
            "452/452 [==============================] - 1s 3ms/step - loss: 0.3334 - mse: 0.3334 - val_loss: 0.3223 - val_mse: 0.3223\n",
            "Epoch 20/20\n",
            "452/452 [==============================] - 1s 3ms/step - loss: 0.3318 - mse: 0.3318 - val_loss: 0.3271 - val_mse: 0.3271\n"
          ]
        }
      ]
    },
    {
      "cell_type": "code",
      "source": [
        "print(f''' Model Loss & MSE: ''' ,model3.evaluate((x_test_A, x_test_B), y_test))"
      ],
      "metadata": {
        "colab": {
          "base_uri": "https://localhost:8080/"
        },
        "id": "4tQH15j_khyJ",
        "outputId": "a95f85b5-5ccb-4622-b4b3-7ee8efde0d6c"
      },
      "execution_count": 19,
      "outputs": [
        {
          "output_type": "stream",
          "name": "stdout",
          "text": [
            "97/97 [==============================] - 0s 2ms/step - loss: 0.3142 - mse: 0.3142\n",
            " Model Loss & MSE:  [0.3142314851284027, 0.3142314851284027]\n"
          ]
        }
      ]
    },
    {
      "cell_type": "code",
      "source": [
        "#plot for model mse\n",
        "plt.plot(history3.history['mse'])\n",
        "plt.plot(history3.history['val_mse'])\n",
        "plt.title('Model MSE')\n",
        "plt.ylabel('MSE')\n",
        "plt.xlabel('Epoch')\n",
        "plt.legend(['Train MSE', 'Validation MSE'])\n",
        "plt.show()"
      ],
      "metadata": {
        "colab": {
          "base_uri": "https://localhost:8080/",
          "height": 295
        },
        "id": "euhNxHESlNbF",
        "outputId": "24df3c6f-b44d-4f9e-c8be-1682deca2e87"
      },
      "execution_count": 20,
      "outputs": [
        {
          "output_type": "display_data",
          "data": {
            "text/plain": [
              "<Figure size 432x288 with 1 Axes>"
            ],
            "image/png": "[encoded data removed]"
          },
          "metadata": {
            "needs_background": "light"
          }
        }
      ]
    },
    {
      "cell_type": "markdown",
      "source": [
        "## MSE in Model 1: 0.31368279457092285\n",
        "\n",
        "## MSE in Model 2: 0.2801394462585449\n",
        "\n",
        "## MSE in Model 3: 0.3142314851284027"
      ],
      "metadata": {
        "id": "GHkYleeWcsvy"
      }
    },
    {
      "cell_type": "markdown",
      "source": [
        "## As we can see from the MSE values that there is not much difference between Regression MLP Model and Wide and Deep Neural Network Model made by splitting features and sending some of them in Deep network while some in Wide network."
      ],
      "metadata": {
        "id": "JL2ulWqVehEU"
      }
    },
    {
      "cell_type": "code",
      "source": [
        ""
      ],
      "metadata": {
        "id": "X8avHvsKfEGu"
      },
      "execution_count": null,
      "outputs": []
    }
  ]
}