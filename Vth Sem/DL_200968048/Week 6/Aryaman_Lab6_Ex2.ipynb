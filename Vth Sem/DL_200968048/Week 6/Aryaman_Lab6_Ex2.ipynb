{
  "cells": [
    {
      "cell_type": "code",
      "execution_count": 1,
      "id": "d66f8f18",
      "metadata": {
        "_cell_guid": "b1076dfc-b9ad-4769-8c92-a6c4dae69d19",
        "_uuid": "8f2839f25d086af736a60e9eeb907d3b93b6e0e5",
        "execution": {
          "iopub.execute_input": "2022-09-08T14:47:55.602459Z",
          "iopub.status.busy": "2022-09-08T14:47:55.601789Z",
          "iopub.status.idle": "2022-09-08T14:47:56.634153Z",
          "shell.execute_reply": "2022-09-08T14:47:56.631771Z"
        },
        "papermill": {
          "duration": 1.043718,
          "end_time": "2022-09-08T14:47:56.636636",
          "exception": false,
          "start_time": "2022-09-08T14:47:55.592918",
          "status": "completed"
        },
        "tags": [],
        "id": "d66f8f18"
      },
      "outputs": [],
      "source": [
        "# Importing Libraries\n",
        "import numpy as np \n",
        "import pandas as pd \n",
        "import matplotlib.pyplot as plt\n",
        "import seaborn as sns"
      ]
    },
    {
      "cell_type": "code",
      "execution_count": 2,
      "id": "25eac9b2",
      "metadata": {
        "execution": {
          "iopub.execute_input": "2022-09-08T14:47:56.684861Z",
          "iopub.status.busy": "2022-09-08T14:47:56.684243Z",
          "iopub.status.idle": "2022-09-08T14:47:56.720047Z",
          "shell.execute_reply": "2022-09-08T14:47:56.719433Z"
        },
        "papermill": {
          "duration": 0.046766,
          "end_time": "2022-09-08T14:47:56.721914",
          "exception": false,
          "start_time": "2022-09-08T14:47:56.675148",
          "status": "completed"
        },
        "tags": [],
        "colab": {
          "base_uri": "https://localhost:8080/",
          "height": 206
        },
        "id": "25eac9b2",
        "outputId": "d12bb94a-8d32-4094-ab56-99147ae1a510"
      },
      "outputs": [
        {
          "output_type": "execute_result",
          "data": {
            "text/plain": [
              "       Date    Open    High     Low   Close      Volume\n",
              "0  1/3/2012  325.25  332.83  324.97  663.59   7,380,500\n",
              "1  1/4/2012  331.27  333.87  329.08  666.45   5,749,400\n",
              "2  1/5/2012  329.83  330.75  326.89  657.21   6,590,300\n",
              "3  1/6/2012  328.34  328.77  323.68  648.24   5,405,900\n",
              "4  1/9/2012  322.04  322.29  309.46  620.76  11,688,800"
            ],
            "text/html": [
              "\n",
              "  <div id=\"df-2e80aa45-c800-4764-b3bc-6645758ff282\">\n",
              "    <div class=\"colab-df-container\">\n",
              "      <div>\n",
              "<style scoped>\n",
              "    .dataframe tbody tr th:only-of-type {\n",
              "        vertical-align: middle;\n",
              "    }\n",
              "\n",
              "    .dataframe tbody tr th {\n",
              "        vertical-align: top;\n",
              "    }\n",
              "\n",
              "    .dataframe thead th {\n",
              "        text-align: right;\n",
              "    }\n",
              "</style>\n",
              "<table border=\"1\" class=\"dataframe\">\n",
              "  <thead>\n",
              "    <tr style=\"text-align: right;\">\n",
              "      <th></th>\n",
              "      <th>Date</th>\n",
              "      <th>Open</th>\n",
              "      <th>High</th>\n",
              "      <th>Low</th>\n",
              "      <th>Close</th>\n",
              "      <th>Volume</th>\n",
              "    </tr>\n",
              "  </thead>\n",
              "  <tbody>\n",
              "    <tr>\n",
              "      <th>0</th>\n",
              "      <td>1/3/2012</td>\n",
              "      <td>325.25</td>\n",
              "      <td>332.83</td>\n",
              "      <td>324.97</td>\n",
              "      <td>663.59</td>\n",
              "      <td>7,380,500</td>\n",
              "    </tr>\n",
              "    <tr>\n",
              "      <th>1</th>\n",
              "      <td>1/4/2012</td>\n",
              "      <td>331.27</td>\n",
              "      <td>333.87</td>\n",
              "      <td>329.08</td>\n",
              "      <td>666.45</td>\n",
              "      <td>5,749,400</td>\n",
              "    </tr>\n",
              "    <tr>\n",
              "      <th>2</th>\n",
              "      <td>1/5/2012</td>\n",
              "      <td>329.83</td>\n",
              "      <td>330.75</td>\n",
              "      <td>326.89</td>\n",
              "      <td>657.21</td>\n",
              "      <td>6,590,300</td>\n",
              "    </tr>\n",
              "    <tr>\n",
              "      <th>3</th>\n",
              "      <td>1/6/2012</td>\n",
              "      <td>328.34</td>\n",
              "      <td>328.77</td>\n",
              "      <td>323.68</td>\n",
              "      <td>648.24</td>\n",
              "      <td>5,405,900</td>\n",
              "    </tr>\n",
              "    <tr>\n",
              "      <th>4</th>\n",
              "      <td>1/9/2012</td>\n",
              "      <td>322.04</td>\n",
              "      <td>322.29</td>\n",
              "      <td>309.46</td>\n",
              "      <td>620.76</td>\n",
              "      <td>11,688,800</td>\n",
              "    </tr>\n",
              "  </tbody>\n",
              "</table>\n",
              "</div>\n",
              "      <button class=\"colab-df-convert\" onclick=\"convertToInteractive('df-2e80aa45-c800-4764-b3bc-6645758ff282')\"\n",
              "              title=\"Convert this dataframe to an interactive table.\"\n",
              "              style=\"display:none;\">\n",
              "        \n",
              "  <svg xmlns=\"http://www.w3.org/2000/svg\" height=\"24px\"viewBox=\"0 0 24 24\"\n",
              "       width=\"24px\">\n",
              "    <path d=\"M0 0h24v24H0V0z\" fill=\"none\"/>\n",
              "    <path d=\"M18.56 5.44l.94 2.06.94-2.06 2.06-.94-2.06-.94-.94-2.06-.94 2.06-2.06.94zm-11 1L8.5 8.5l.94-2.06 2.06-.94-2.06-.94L8.5 2.5l-.94 2.06-2.06.94zm10 10l.94 2.06.94-2.06 2.06-.94-2.06-.94-.94-2.06-.94 2.06-2.06.94z\"/><path d=\"M17.41 7.96l-1.37-1.37c-.4-.4-.92-.59-1.43-.59-.52 0-1.04.2-1.43.59L10.3 9.45l-7.72 7.72c-.78.78-.78 2.05 0 2.83L4 21.41c.39.39.9.59 1.41.59.51 0 1.02-.2 1.41-.59l7.78-7.78 2.81-2.81c.8-.78.8-2.07 0-2.86zM5.41 20L4 18.59l7.72-7.72 1.47 1.35L5.41 20z\"/>\n",
              "  </svg>\n",
              "      </button>\n",
              "      \n",
              "  <style>\n",
              "    .colab-df-container {\n",
              "      display:flex;\n",
              "      flex-wrap:wrap;\n",
              "      gap: 12px;\n",
              "    }\n",
              "\n",
              "    .colab-df-convert {\n",
              "      background-color: #E8F0FE;\n",
              "      border: none;\n",
              "      border-radius: 50%;\n",
              "      cursor: pointer;\n",
              "      display: none;\n",
              "      fill: #1967D2;\n",
              "      height: 32px;\n",
              "      padding: 0 0 0 0;\n",
              "      width: 32px;\n",
              "    }\n",
              "\n",
              "    .colab-df-convert:hover {\n",
              "      background-color: #E2EBFA;\n",
              "      box-shadow: 0px 1px 2px rgba(60, 64, 67, 0.3), 0px 1px 3px 1px rgba(60, 64, 67, 0.15);\n",
              "      fill: #174EA6;\n",
              "    }\n",
              "\n",
              "    [theme=dark] .colab-df-convert {\n",
              "      background-color: #3B4455;\n",
              "      fill: #D2E3FC;\n",
              "    }\n",
              "\n",
              "    [theme=dark] .colab-df-convert:hover {\n",
              "      background-color: #434B5C;\n",
              "      box-shadow: 0px 1px 3px 1px rgba(0, 0, 0, 0.15);\n",
              "      filter: drop-shadow(0px 1px 2px rgba(0, 0, 0, 0.3));\n",
              "      fill: #FFFFFF;\n",
              "    }\n",
              "  </style>\n",
              "\n",
              "      <script>\n",
              "        const buttonEl =\n",
              "          document.querySelector('#df-2e80aa45-c800-4764-b3bc-6645758ff282 button.colab-df-convert');\n",
              "        buttonEl.style.display =\n",
              "          google.colab.kernel.accessAllowed ? 'block' : 'none';\n",
              "\n",
              "        async function convertToInteractive(key) {\n",
              "          const element = document.querySelector('#df-2e80aa45-c800-4764-b3bc-6645758ff282');\n",
              "          const dataTable =\n",
              "            await google.colab.kernel.invokeFunction('convertToInteractive',\n",
              "                                                     [key], {});\n",
              "          if (!dataTable) return;\n",
              "\n",
              "          const docLinkHtml = 'Like what you see? Visit the ' +\n",
              "            '<a target=\"_blank\" href=https://colab.research.google.com/notebooks/data_table.ipynb>data table notebook</a>'\n",
              "            + ' to learn more about interactive tables.';\n",
              "          element.innerHTML = '';\n",
              "          dataTable['output_type'] = 'display_data';\n",
              "          await google.colab.output.renderOutput(dataTable, element);\n",
              "          const docLink = document.createElement('div');\n",
              "          docLink.innerHTML = docLinkHtml;\n",
              "          element.appendChild(docLink);\n",
              "        }\n",
              "      </script>\n",
              "    </div>\n",
              "  </div>\n",
              "  "
            ]
          },
          "metadata": {},
          "execution_count": 2
        }
      ],
      "source": [
        "data = pd.read_csv(\"Google_Stock_Price_Train.csv\")\n",
        "data.head()"
      ]
    },
    {
      "cell_type": "code",
      "execution_count": 3,
      "id": "32af16e0",
      "metadata": {
        "execution": {
          "iopub.execute_input": "2022-09-08T14:47:56.740375Z",
          "iopub.status.busy": "2022-09-08T14:47:56.739414Z",
          "iopub.status.idle": "2022-09-08T14:47:56.761751Z",
          "shell.execute_reply": "2022-09-08T14:47:56.761150Z"
        },
        "papermill": {
          "duration": 0.033724,
          "end_time": "2022-09-08T14:47:56.764035",
          "exception": false,
          "start_time": "2022-09-08T14:47:56.730311",
          "status": "completed"
        },
        "tags": [],
        "colab": {
          "base_uri": "https://localhost:8080/"
        },
        "id": "32af16e0",
        "outputId": "d9f92ad1-8a78-47ac-d336-9beaf761c85b"
      },
      "outputs": [
        {
          "output_type": "stream",
          "name": "stdout",
          "text": [
            "<class 'pandas.core.frame.DataFrame'>\n",
            "RangeIndex: 1258 entries, 0 to 1257\n",
            "Data columns (total 6 columns):\n",
            " #   Column  Non-Null Count  Dtype  \n",
            "---  ------  --------------  -----  \n",
            " 0   Date    1258 non-null   object \n",
            " 1   Open    1258 non-null   float64\n",
            " 2   High    1258 non-null   float64\n",
            " 3   Low     1258 non-null   float64\n",
            " 4   Close   1258 non-null   object \n",
            " 5   Volume  1258 non-null   object \n",
            "dtypes: float64(3), object(3)\n",
            "memory usage: 59.1+ KB\n"
          ]
        }
      ],
      "source": [
        "# information of data\n",
        "data.info()"
      ]
    },
    {
      "cell_type": "code",
      "execution_count": 4,
      "id": "be197fe2",
      "metadata": {
        "execution": {
          "iopub.execute_input": "2022-09-08T14:47:56.783514Z",
          "iopub.status.busy": "2022-09-08T14:47:56.782490Z",
          "iopub.status.idle": "2022-09-08T14:47:56.801332Z",
          "shell.execute_reply": "2022-09-08T14:47:56.800685Z"
        },
        "papermill": {
          "duration": 0.030306,
          "end_time": "2022-09-08T14:47:56.803325",
          "exception": false,
          "start_time": "2022-09-08T14:47:56.773019",
          "status": "completed"
        },
        "tags": [],
        "colab": {
          "base_uri": "https://localhost:8080/",
          "height": 300
        },
        "id": "be197fe2",
        "outputId": "68c26de7-e84d-45a5-e225-c0b788cc73c5"
      },
      "outputs": [
        {
          "output_type": "execute_result",
          "data": {
            "text/plain": [
              "              Open         High          Low\n",
              "count  1258.000000  1258.000000  1258.000000\n",
              "mean    533.709833   537.880223   529.007409\n",
              "std     151.904442   153.008811   150.552807\n",
              "min     279.120000   281.210000   277.220000\n",
              "25%     404.115000   406.765000   401.765000\n",
              "50%     537.470000   540.750000   532.990000\n",
              "75%     654.922500   662.587500   644.800000\n",
              "max     816.680000   816.680000   805.140000"
            ],
            "text/html": [
              "\n",
              "  <div id=\"df-ffde6ada-9ad1-42cf-8890-63a3ee2d068d\">\n",
              "    <div class=\"colab-df-container\">\n",
              "      <div>\n",
              "<style scoped>\n",
              "    .dataframe tbody tr th:only-of-type {\n",
              "        vertical-align: middle;\n",
              "    }\n",
              "\n",
              "    .dataframe tbody tr th {\n",
              "        vertical-align: top;\n",
              "    }\n",
              "\n",
              "    .dataframe thead th {\n",
              "        text-align: right;\n",
              "    }\n",
              "</style>\n",
              "<table border=\"1\" class=\"dataframe\">\n",
              "  <thead>\n",
              "    <tr style=\"text-align: right;\">\n",
              "      <th></th>\n",
              "      <th>Open</th>\n",
              "      <th>High</th>\n",
              "      <th>Low</th>\n",
              "    </tr>\n",
              "  </thead>\n",
              "  <tbody>\n",
              "    <tr>\n",
              "      <th>count</th>\n",
              "      <td>1258.000000</td>\n",
              "      <td>1258.000000</td>\n",
              "      <td>1258.000000</td>\n",
              "    </tr>\n",
              "    <tr>\n",
              "      <th>mean</th>\n",
              "      <td>533.709833</td>\n",
              "      <td>537.880223</td>\n",
              "      <td>529.007409</td>\n",
              "    </tr>\n",
              "    <tr>\n",
              "      <th>std</th>\n",
              "      <td>151.904442</td>\n",
              "      <td>153.008811</td>\n",
              "      <td>150.552807</td>\n",
              "    </tr>\n",
              "    <tr>\n",
              "      <th>min</th>\n",
              "      <td>279.120000</td>\n",
              "      <td>281.210000</td>\n",
              "      <td>277.220000</td>\n",
              "    </tr>\n",
              "    <tr>\n",
              "      <th>25%</th>\n",
              "      <td>404.115000</td>\n",
              "      <td>406.765000</td>\n",
              "      <td>401.765000</td>\n",
              "    </tr>\n",
              "    <tr>\n",
              "      <th>50%</th>\n",
              "      <td>537.470000</td>\n",
              "      <td>540.750000</td>\n",
              "      <td>532.990000</td>\n",
              "    </tr>\n",
              "    <tr>\n",
              "      <th>75%</th>\n",
              "      <td>654.922500</td>\n",
              "      <td>662.587500</td>\n",
              "      <td>644.800000</td>\n",
              "    </tr>\n",
              "    <tr>\n",
              "      <th>max</th>\n",
              "      <td>816.680000</td>\n",
              "      <td>816.680000</td>\n",
              "      <td>805.140000</td>\n",
              "    </tr>\n",
              "  </tbody>\n",
              "</table>\n",
              "</div>\n",
              "      <button class=\"colab-df-convert\" onclick=\"convertToInteractive('df-ffde6ada-9ad1-42cf-8890-63a3ee2d068d')\"\n",
              "              title=\"Convert this dataframe to an interactive table.\"\n",
              "              style=\"display:none;\">\n",
              "        \n",
              "  <svg xmlns=\"http://www.w3.org/2000/svg\" height=\"24px\"viewBox=\"0 0 24 24\"\n",
              "       width=\"24px\">\n",
              "    <path d=\"M0 0h24v24H0V0z\" fill=\"none\"/>\n",
              "    <path d=\"M18.56 5.44l.94 2.06.94-2.06 2.06-.94-2.06-.94-.94-2.06-.94 2.06-2.06.94zm-11 1L8.5 8.5l.94-2.06 2.06-.94-2.06-.94L8.5 2.5l-.94 2.06-2.06.94zm10 10l.94 2.06.94-2.06 2.06-.94-2.06-.94-.94-2.06-.94 2.06-2.06.94z\"/><path d=\"M17.41 7.96l-1.37-1.37c-.4-.4-.92-.59-1.43-.59-.52 0-1.04.2-1.43.59L10.3 9.45l-7.72 7.72c-.78.78-.78 2.05 0 2.83L4 21.41c.39.39.9.59 1.41.59.51 0 1.02-.2 1.41-.59l7.78-7.78 2.81-2.81c.8-.78.8-2.07 0-2.86zM5.41 20L4 18.59l7.72-7.72 1.47 1.35L5.41 20z\"/>\n",
              "  </svg>\n",
              "      </button>\n",
              "      \n",
              "  <style>\n",
              "    .colab-df-container {\n",
              "      display:flex;\n",
              "      flex-wrap:wrap;\n",
              "      gap: 12px;\n",
              "    }\n",
              "\n",
              "    .colab-df-convert {\n",
              "      background-color: #E8F0FE;\n",
              "      border: none;\n",
              "      border-radius: 50%;\n",
              "      cursor: pointer;\n",
              "      display: none;\n",
              "      fill: #1967D2;\n",
              "      height: 32px;\n",
              "      padding: 0 0 0 0;\n",
              "      width: 32px;\n",
              "    }\n",
              "\n",
              "    .colab-df-convert:hover {\n",
              "      background-color: #E2EBFA;\n",
              "      box-shadow: 0px 1px 2px rgba(60, 64, 67, 0.3), 0px 1px 3px 1px rgba(60, 64, 67, 0.15);\n",
              "      fill: #174EA6;\n",
              "    }\n",
              "\n",
              "    [theme=dark] .colab-df-convert {\n",
              "      background-color: #3B4455;\n",
              "      fill: #D2E3FC;\n",
              "    }\n",
              "\n",
              "    [theme=dark] .colab-df-convert:hover {\n",
              "      background-color: #434B5C;\n",
              "      box-shadow: 0px 1px 3px 1px rgba(0, 0, 0, 0.15);\n",
              "      filter: drop-shadow(0px 1px 2px rgba(0, 0, 0, 0.3));\n",
              "      fill: #FFFFFF;\n",
              "    }\n",
              "  </style>\n",
              "\n",
              "      <script>\n",
              "        const buttonEl =\n",
              "          document.querySelector('#df-ffde6ada-9ad1-42cf-8890-63a3ee2d068d button.colab-df-convert');\n",
              "        buttonEl.style.display =\n",
              "          google.colab.kernel.accessAllowed ? 'block' : 'none';\n",
              "\n",
              "        async function convertToInteractive(key) {\n",
              "          const element = document.querySelector('#df-ffde6ada-9ad1-42cf-8890-63a3ee2d068d');\n",
              "          const dataTable =\n",
              "            await google.colab.kernel.invokeFunction('convertToInteractive',\n",
              "                                                     [key], {});\n",
              "          if (!dataTable) return;\n",
              "\n",
              "          const docLinkHtml = 'Like what you see? Visit the ' +\n",
              "            '<a target=\"_blank\" href=https://colab.research.google.com/notebooks/data_table.ipynb>data table notebook</a>'\n",
              "            + ' to learn more about interactive tables.';\n",
              "          element.innerHTML = '';\n",
              "          dataTable['output_type'] = 'display_data';\n",
              "          await google.colab.output.renderOutput(dataTable, element);\n",
              "          const docLink = document.createElement('div');\n",
              "          docLink.innerHTML = docLinkHtml;\n",
              "          element.appendChild(docLink);\n",
              "        }\n",
              "      </script>\n",
              "    </div>\n",
              "  </div>\n",
              "  "
            ]
          },
          "metadata": {},
          "execution_count": 4
        }
      ],
      "source": [
        "# Dataset Values(Max, min, std..)\n",
        "data.describe()"
      ]
    },
    {
      "cell_type": "code",
      "execution_count": 5,
      "id": "6f4ddba2",
      "metadata": {
        "execution": {
          "iopub.execute_input": "2022-09-08T14:47:56.821701Z",
          "iopub.status.busy": "2022-09-08T14:47:56.821177Z",
          "iopub.status.idle": "2022-09-08T14:47:56.831751Z",
          "shell.execute_reply": "2022-09-08T14:47:56.831040Z"
        },
        "papermill": {
          "duration": 0.021692,
          "end_time": "2022-09-08T14:47:56.833349",
          "exception": false,
          "start_time": "2022-09-08T14:47:56.811657",
          "status": "completed"
        },
        "tags": [],
        "colab": {
          "base_uri": "https://localhost:8080/",
          "height": 143
        },
        "id": "6f4ddba2",
        "outputId": "2378665f-4d4d-4064-f5c7-25028d2b3cec"
      },
      "outputs": [
        {
          "output_type": "execute_result",
          "data": {
            "text/plain": [
              "          Open      High       Low\n",
              "Open  1.000000  0.999692  0.999498\n",
              "High  0.999692  1.000000  0.999480\n",
              "Low   0.999498  0.999480  1.000000"
            ],
            "text/html": [
              "\n",
              "  <div id=\"df-df06880b-3889-49c3-8f99-60dbc559c001\">\n",
              "    <div class=\"colab-df-container\">\n",
              "      <div>\n",
              "<style scoped>\n",
              "    .dataframe tbody tr th:only-of-type {\n",
              "        vertical-align: middle;\n",
              "    }\n",
              "\n",
              "    .dataframe tbody tr th {\n",
              "        vertical-align: top;\n",
              "    }\n",
              "\n",
              "    .dataframe thead th {\n",
              "        text-align: right;\n",
              "    }\n",
              "</style>\n",
              "<table border=\"1\" class=\"dataframe\">\n",
              "  <thead>\n",
              "    <tr style=\"text-align: right;\">\n",
              "      <th></th>\n",
              "      <th>Open</th>\n",
              "      <th>High</th>\n",
              "      <th>Low</th>\n",
              "    </tr>\n",
              "  </thead>\n",
              "  <tbody>\n",
              "    <tr>\n",
              "      <th>Open</th>\n",
              "      <td>1.000000</td>\n",
              "      <td>0.999692</td>\n",
              "      <td>0.999498</td>\n",
              "    </tr>\n",
              "    <tr>\n",
              "      <th>High</th>\n",
              "      <td>0.999692</td>\n",
              "      <td>1.000000</td>\n",
              "      <td>0.999480</td>\n",
              "    </tr>\n",
              "    <tr>\n",
              "      <th>Low</th>\n",
              "      <td>0.999498</td>\n",
              "      <td>0.999480</td>\n",
              "      <td>1.000000</td>\n",
              "    </tr>\n",
              "  </tbody>\n",
              "</table>\n",
              "</div>\n",
              "      <button class=\"colab-df-convert\" onclick=\"convertToInteractive('df-df06880b-3889-49c3-8f99-60dbc559c001')\"\n",
              "              title=\"Convert this dataframe to an interactive table.\"\n",
              "              style=\"display:none;\">\n",
              "        \n",
              "  <svg xmlns=\"http://www.w3.org/2000/svg\" height=\"24px\"viewBox=\"0 0 24 24\"\n",
              "       width=\"24px\">\n",
              "    <path d=\"M0 0h24v24H0V0z\" fill=\"none\"/>\n",
              "    <path d=\"M18.56 5.44l.94 2.06.94-2.06 2.06-.94-2.06-.94-.94-2.06-.94 2.06-2.06.94zm-11 1L8.5 8.5l.94-2.06 2.06-.94-2.06-.94L8.5 2.5l-.94 2.06-2.06.94zm10 10l.94 2.06.94-2.06 2.06-.94-2.06-.94-.94-2.06-.94 2.06-2.06.94z\"/><path d=\"M17.41 7.96l-1.37-1.37c-.4-.4-.92-.59-1.43-.59-.52 0-1.04.2-1.43.59L10.3 9.45l-7.72 7.72c-.78.78-.78 2.05 0 2.83L4 21.41c.39.39.9.59 1.41.59.51 0 1.02-.2 1.41-.59l7.78-7.78 2.81-2.81c.8-.78.8-2.07 0-2.86zM5.41 20L4 18.59l7.72-7.72 1.47 1.35L5.41 20z\"/>\n",
              "  </svg>\n",
              "      </button>\n",
              "      \n",
              "  <style>\n",
              "    .colab-df-container {\n",
              "      display:flex;\n",
              "      flex-wrap:wrap;\n",
              "      gap: 12px;\n",
              "    }\n",
              "\n",
              "    .colab-df-convert {\n",
              "      background-color: #E8F0FE;\n",
              "      border: none;\n",
              "      border-radius: 50%;\n",
              "      cursor: pointer;\n",
              "      display: none;\n",
              "      fill: #1967D2;\n",
              "      height: 32px;\n",
              "      padding: 0 0 0 0;\n",
              "      width: 32px;\n",
              "    }\n",
              "\n",
              "    .colab-df-convert:hover {\n",
              "      background-color: #E2EBFA;\n",
              "      box-shadow: 0px 1px 2px rgba(60, 64, 67, 0.3), 0px 1px 3px 1px rgba(60, 64, 67, 0.15);\n",
              "      fill: #174EA6;\n",
              "    }\n",
              "\n",
              "    [theme=dark] .colab-df-convert {\n",
              "      background-color: #3B4455;\n",
              "      fill: #D2E3FC;\n",
              "    }\n",
              "\n",
              "    [theme=dark] .colab-df-convert:hover {\n",
              "      background-color: #434B5C;\n",
              "      box-shadow: 0px 1px 3px 1px rgba(0, 0, 0, 0.15);\n",
              "      filter: drop-shadow(0px 1px 2px rgba(0, 0, 0, 0.3));\n",
              "      fill: #FFFFFF;\n",
              "    }\n",
              "  </style>\n",
              "\n",
              "      <script>\n",
              "        const buttonEl =\n",
              "          document.querySelector('#df-df06880b-3889-49c3-8f99-60dbc559c001 button.colab-df-convert');\n",
              "        buttonEl.style.display =\n",
              "          google.colab.kernel.accessAllowed ? 'block' : 'none';\n",
              "\n",
              "        async function convertToInteractive(key) {\n",
              "          const element = document.querySelector('#df-df06880b-3889-49c3-8f99-60dbc559c001');\n",
              "          const dataTable =\n",
              "            await google.colab.kernel.invokeFunction('convertToInteractive',\n",
              "                                                     [key], {});\n",
              "          if (!dataTable) return;\n",
              "\n",
              "          const docLinkHtml = 'Like what you see? Visit the ' +\n",
              "            '<a target=\"_blank\" href=https://colab.research.google.com/notebooks/data_table.ipynb>data table notebook</a>'\n",
              "            + ' to learn more about interactive tables.';\n",
              "          element.innerHTML = '';\n",
              "          dataTable['output_type'] = 'display_data';\n",
              "          await google.colab.output.renderOutput(dataTable, element);\n",
              "          const docLink = document.createElement('div');\n",
              "          docLink.innerHTML = docLinkHtml;\n",
              "          element.appendChild(docLink);\n",
              "        }\n",
              "      </script>\n",
              "    </div>\n",
              "  </div>\n",
              "  "
            ]
          },
          "metadata": {},
          "execution_count": 5
        }
      ],
      "source": [
        "# Data Correlation: Relationship between columns\n",
        "data.corr()"
      ]
    },
    {
      "cell_type": "code",
      "execution_count": 6,
      "id": "2f2f0add",
      "metadata": {
        "execution": {
          "iopub.execute_input": "2022-09-08T14:47:56.851693Z",
          "iopub.status.busy": "2022-09-08T14:47:56.851148Z",
          "iopub.status.idle": "2022-09-08T14:47:57.064126Z",
          "shell.execute_reply": "2022-09-08T14:47:57.063158Z"
        },
        "papermill": {
          "duration": 0.22447,
          "end_time": "2022-09-08T14:47:57.066184",
          "exception": false,
          "start_time": "2022-09-08T14:47:56.841714",
          "status": "completed"
        },
        "tags": [],
        "colab": {
          "base_uri": "https://localhost:8080/",
          "height": 324
        },
        "id": "2f2f0add",
        "outputId": "206a72e9-3a85-4109-966d-026c4ac29a35"
      },
      "outputs": [
        {
          "output_type": "display_data",
          "data": {
            "text/plain": [
              "<Figure size 360x360 with 2 Axes>"
            ],
            "image/png": "[encoded data removed]"
          },
          "metadata": {
            "needs_background": "light"
          }
        }
      ],
      "source": [
        "# Visualization of correlation result with seaborn library heatmap.\n",
        "f, ax = plt.subplots(figsize = (5,5))\n",
        "sns.heatmap(data.corr(), annot = True, linewidths=0.5, linecolor = \"black\", fmt = \".4f\", ax = ax)\n",
        "plt.show()"
      ]
    },
    {
      "cell_type": "code",
      "execution_count": 7,
      "id": "7fb4861b",
      "metadata": {
        "execution": {
          "iopub.execute_input": "2022-09-08T14:47:57.106966Z",
          "iopub.status.busy": "2022-09-08T14:47:57.106453Z",
          "iopub.status.idle": "2022-09-08T14:47:57.112279Z",
          "shell.execute_reply": "2022-09-08T14:47:57.111648Z"
        },
        "papermill": {
          "duration": 0.01872,
          "end_time": "2022-09-08T14:47:57.114236",
          "exception": false,
          "start_time": "2022-09-08T14:47:57.095516",
          "status": "completed"
        },
        "tags": [],
        "colab": {
          "base_uri": "https://localhost:8080/"
        },
        "id": "7fb4861b",
        "outputId": "f435c2b3-4b7b-427e-830a-0bcd71c1a2a8"
      },
      "outputs": [
        {
          "output_type": "execute_result",
          "data": {
            "text/plain": [
              "Index(['Date', 'Open', 'High', 'Low', 'Close', 'Volume'], dtype='object')"
            ]
          },
          "metadata": {},
          "execution_count": 7
        }
      ],
      "source": [
        "# Dataset columns names\n",
        "data.columns"
      ]
    },
    {
      "cell_type": "code",
      "execution_count": 8,
      "id": "04dfba82",
      "metadata": {
        "execution": {
          "iopub.execute_input": "2022-09-08T14:47:57.169524Z",
          "iopub.status.busy": "2022-09-08T14:47:57.168936Z",
          "iopub.status.idle": "2022-09-08T14:47:57.176343Z",
          "shell.execute_reply": "2022-09-08T14:47:57.175243Z"
        },
        "papermill": {
          "duration": 0.02069,
          "end_time": "2022-09-08T14:47:57.178562",
          "exception": false,
          "start_time": "2022-09-08T14:47:57.157872",
          "status": "completed"
        },
        "tags": [],
        "colab": {
          "base_uri": "https://localhost:8080/"
        },
        "id": "04dfba82",
        "outputId": "7c6579bb-2e82-4faa-a45a-c7f211476aae"
      },
      "outputs": [
        {
          "output_type": "execute_result",
          "data": {
            "text/plain": [
              "array([[325.25],\n",
              "       [331.27],\n",
              "       [329.83],\n",
              "       ...,\n",
              "       [793.7 ],\n",
              "       [783.33],\n",
              "       [782.75]])"
            ]
          },
          "metadata": {},
          "execution_count": 8
        }
      ],
      "source": [
        "data_set = data.loc[:, [\"Open\"]].values\n",
        "data_set"
      ]
    },
    {
      "cell_type": "code",
      "execution_count": 9,
      "id": "26fd708f",
      "metadata": {
        "execution": {
          "iopub.execute_input": "2022-09-08T14:47:57.222843Z",
          "iopub.status.busy": "2022-09-08T14:47:57.222365Z",
          "iopub.status.idle": "2022-09-08T14:47:57.229912Z",
          "shell.execute_reply": "2022-09-08T14:47:57.228939Z"
        },
        "papermill": {
          "duration": 0.020146,
          "end_time": "2022-09-08T14:47:57.231914",
          "exception": false,
          "start_time": "2022-09-08T14:47:57.211768",
          "status": "completed"
        },
        "tags": [],
        "colab": {
          "base_uri": "https://localhost:8080/"
        },
        "id": "26fd708f",
        "outputId": "caa52689-122a-435f-9cdc-a22722de03fe"
      },
      "outputs": [
        {
          "output_type": "execute_result",
          "data": {
            "text/plain": [
              "(1208, 1)"
            ]
          },
          "metadata": {},
          "execution_count": 9
        }
      ],
      "source": [
        "train = data_set[:len(data_set) - 50]\n",
        "test = data_set[len(train):]\n",
        "\n",
        "train.reshape(train.shape[0],1)\n",
        "train.shape"
      ]
    },
    {
      "cell_type": "code",
      "execution_count": 10,
      "id": "4e9d2ee2",
      "metadata": {
        "execution": {
          "iopub.execute_input": "2022-09-08T14:47:57.271593Z",
          "iopub.status.busy": "2022-09-08T14:47:57.271307Z",
          "iopub.status.idle": "2022-09-08T14:47:57.428879Z",
          "shell.execute_reply": "2022-09-08T14:47:57.428249Z"
        },
        "papermill": {
          "duration": 0.169658,
          "end_time": "2022-09-08T14:47:57.430793",
          "exception": false,
          "start_time": "2022-09-08T14:47:57.261135",
          "status": "completed"
        },
        "tags": [],
        "colab": {
          "base_uri": "https://localhost:8080/"
        },
        "id": "4e9d2ee2",
        "outputId": "52f1cb99-f5fe-48db-8cc7-f43b4f4096b5"
      },
      "outputs": [
        {
          "output_type": "execute_result",
          "data": {
            "text/plain": [
              "array([[0.08886192],\n",
              "       [0.10045847],\n",
              "       [0.09768454],\n",
              "       ...,\n",
              "       [0.96447835],\n",
              "       [0.97998536],\n",
              "       [1.        ]])"
            ]
          },
          "metadata": {},
          "execution_count": 10
        }
      ],
      "source": [
        "# Normalization wiht MinmaxScaler\n",
        "from sklearn.preprocessing import MinMaxScaler\n",
        "scaler = MinMaxScaler(feature_range = (0,1)) \n",
        "train_scaler = scaler.fit_transform(train)\n",
        "train_scaler"
      ]
    },
    {
      "cell_type": "code",
      "execution_count": 11,
      "id": "cadc8e8c",
      "metadata": {
        "execution": {
          "iopub.execute_input": "2022-09-08T14:47:57.468576Z",
          "iopub.status.busy": "2022-09-08T14:47:57.468063Z",
          "iopub.status.idle": "2022-09-08T14:47:57.587762Z",
          "shell.execute_reply": "2022-09-08T14:47:57.586658Z"
        },
        "papermill": {
          "duration": 0.131279,
          "end_time": "2022-09-08T14:47:57.589528",
          "exception": false,
          "start_time": "2022-09-08T14:47:57.458249",
          "status": "completed"
        },
        "tags": [],
        "colab": {
          "base_uri": "https://localhost:8080/",
          "height": 265
        },
        "id": "cadc8e8c",
        "outputId": "721a6b33-7b6a-4dea-b56d-01f09fcb33a5"
      },
      "outputs": [
        {
          "output_type": "display_data",
          "data": {
            "text/plain": [
              "<Figure size 432x288 with 1 Axes>"
            ],
            "image/png": "[encoded data removed]"
          },
          "metadata": {
            "needs_background": "light"
          }
        }
      ],
      "source": [
        "plt.plot(train_scaler)\n",
        "plt.show()"
      ]
    },
    {
      "cell_type": "code",
      "execution_count": 12,
      "id": "e7c147b1",
      "metadata": {
        "execution": {
          "iopub.execute_input": "2022-09-08T14:47:57.628272Z",
          "iopub.status.busy": "2022-09-08T14:47:57.627919Z",
          "iopub.status.idle": "2022-09-08T14:47:57.636162Z",
          "shell.execute_reply": "2022-09-08T14:47:57.635078Z"
        },
        "papermill": {
          "duration": 0.020581,
          "end_time": "2022-09-08T14:47:57.638056",
          "exception": false,
          "start_time": "2022-09-08T14:47:57.617475",
          "status": "completed"
        },
        "tags": [],
        "id": "e7c147b1"
      },
      "outputs": [],
      "source": [
        "X_train = []\n",
        "Y_train = []\n",
        "timesteps = 50\n",
        "\n",
        "for i in range(timesteps, len(train_scaler)):\n",
        "    X_train.append(train_scaler[i - timesteps:i, 0])\n",
        "    Y_train.append(train_scaler[i,0])\n",
        "    \n",
        "X_train, Y_train = np.array(X_train), np.array(Y_train)\n",
        "\n",
        "# reshape\n",
        "X_train = np.reshape(X_train, (X_train.shape[0], X_train.shape[1], 1))"
      ]
    },
    {
      "cell_type": "code",
      "execution_count": 13,
      "id": "81e6f391",
      "metadata": {
        "execution": {
          "iopub.execute_input": "2022-09-08T14:47:57.659094Z",
          "iopub.status.busy": "2022-09-08T14:47:57.658603Z",
          "iopub.status.idle": "2022-09-08T14:47:57.664038Z",
          "shell.execute_reply": "2022-09-08T14:47:57.662559Z"
        },
        "papermill": {
          "duration": 0.018438,
          "end_time": "2022-09-08T14:47:57.665942",
          "exception": false,
          "start_time": "2022-09-08T14:47:57.647504",
          "status": "completed"
        },
        "tags": [],
        "colab": {
          "base_uri": "https://localhost:8080/"
        },
        "id": "81e6f391",
        "outputId": "c054efa8-246e-4896-8fd4-24af7b9b8652"
      },
      "outputs": [
        {
          "output_type": "execute_result",
          "data": {
            "text/plain": [
              "(1158, 50, 1)"
            ]
          },
          "metadata": {},
          "execution_count": 13
        }
      ],
      "source": [
        "X_train.shape"
      ]
    },
    {
      "cell_type": "code",
      "execution_count": 14,
      "id": "e6e24052",
      "metadata": {
        "execution": {
          "iopub.execute_input": "2022-09-08T14:47:57.686173Z",
          "iopub.status.busy": "2022-09-08T14:47:57.685836Z",
          "iopub.status.idle": "2022-09-08T14:47:57.692496Z",
          "shell.execute_reply": "2022-09-08T14:47:57.691485Z"
        },
        "papermill": {
          "duration": 0.018925,
          "end_time": "2022-09-08T14:47:57.694393",
          "exception": false,
          "start_time": "2022-09-08T14:47:57.675468",
          "status": "completed"
        },
        "tags": [],
        "colab": {
          "base_uri": "https://localhost:8080/"
        },
        "id": "e6e24052",
        "outputId": "918cfd53-41ff-4c3c-a260-8ef705eca434"
      },
      "outputs": [
        {
          "output_type": "execute_result",
          "data": {
            "text/plain": [
              "array([[[0.08886192],\n",
              "        [0.10045847],\n",
              "        [0.09768454],\n",
              "        ...,\n",
              "        [0.03806442],\n",
              "        [0.04646325],\n",
              "        [0.05245415]],\n",
              "\n",
              "       [[0.10045847],\n",
              "        [0.09768454],\n",
              "        [0.0948143 ],\n",
              "        ...,\n",
              "        [0.04646325],\n",
              "        [0.05245415],\n",
              "        [0.05399522]],\n",
              "\n",
              "       [[0.09768454],\n",
              "        [0.0948143 ],\n",
              "        [0.08267838],\n",
              "        ...,\n",
              "        [0.05245415],\n",
              "        [0.05399522],\n",
              "        [0.05811758]],\n",
              "\n",
              "       ...,\n",
              "\n",
              "       [[0.9528818 ],\n",
              "        [0.96871629],\n",
              "        [0.96698259],\n",
              "        ...,\n",
              "        [0.97210664],\n",
              "        [0.96721375],\n",
              "        [0.96804207]],\n",
              "\n",
              "       [[0.96871629],\n",
              "        [0.96698259],\n",
              "        [0.97208738],\n",
              "        ...,\n",
              "        [0.96721375],\n",
              "        [0.96804207],\n",
              "        [0.96447835]],\n",
              "\n",
              "       [[0.96698259],\n",
              "        [0.97208738],\n",
              "        [0.9744953 ],\n",
              "        ...,\n",
              "        [0.96804207],\n",
              "        [0.96447835],\n",
              "        [0.97998536]]])"
            ]
          },
          "metadata": {},
          "execution_count": 14
        }
      ],
      "source": [
        "X_train"
      ]
    },
    {
      "cell_type": "code",
      "execution_count": 15,
      "id": "e93a9d6a",
      "metadata": {
        "execution": {
          "iopub.execute_input": "2022-09-08T14:47:57.715817Z",
          "iopub.status.busy": "2022-09-08T14:47:57.715325Z",
          "iopub.status.idle": "2022-09-08T14:47:57.722813Z",
          "shell.execute_reply": "2022-09-08T14:47:57.721691Z"
        },
        "papermill": {
          "duration": 0.020761,
          "end_time": "2022-09-08T14:47:57.725055",
          "exception": false,
          "start_time": "2022-09-08T14:47:57.704294",
          "status": "completed"
        },
        "tags": [],
        "colab": {
          "base_uri": "https://localhost:8080/"
        },
        "id": "e93a9d6a",
        "outputId": "9322612c-1481-4ca6-d5e3-0f5980996726"
      },
      "outputs": [
        {
          "output_type": "execute_result",
          "data": {
            "text/plain": [
              "array([0.05399522, 0.05811758, 0.06025582, ..., 0.96447835, 0.97998536,\n",
              "       1.        ])"
            ]
          },
          "metadata": {},
          "execution_count": 15
        }
      ],
      "source": [
        "Y_train"
      ]
    },
    {
      "cell_type": "code",
      "execution_count": 16,
      "id": "45c41adf",
      "metadata": {
        "execution": {
          "iopub.execute_input": "2022-09-08T14:47:57.766395Z",
          "iopub.status.busy": "2022-09-08T14:47:57.765229Z",
          "iopub.status.idle": "2022-09-08T14:55:28.991405Z",
          "shell.execute_reply": "2022-09-08T14:55:28.990324Z"
        },
        "papermill": {
          "duration": 451.239085,
          "end_time": "2022-09-08T14:55:28.993181",
          "exception": false,
          "start_time": "2022-09-08T14:47:57.754096",
          "status": "completed"
        },
        "tags": [],
        "colab": {
          "base_uri": "https://localhost:8080/"
        },
        "id": "45c41adf",
        "outputId": "b4af4b2c-f495-4b47-99bc-26214b810349"
      },
      "outputs": [
        {
          "output_type": "stream",
          "name": "stdout",
          "text": [
            "Epoch 1/100\n",
            "37/37 [==============================] - 5s 53ms/step - loss: 0.4249\n",
            "Epoch 2/100\n",
            "37/37 [==============================] - 2s 60ms/step - loss: 0.3184\n",
            "Epoch 3/100\n",
            "37/37 [==============================] - 2s 60ms/step - loss: 0.2293\n",
            "Epoch 4/100\n",
            "37/37 [==============================] - 2s 41ms/step - loss: 0.1779\n",
            "Epoch 5/100\n",
            "37/37 [==============================] - 2s 41ms/step - loss: 0.1371\n",
            "Epoch 6/100\n",
            "37/37 [==============================] - 2s 42ms/step - loss: 0.1266\n",
            "Epoch 7/100\n",
            "37/37 [==============================] - 2s 41ms/step - loss: 0.1003\n",
            "Epoch 8/100\n",
            "37/37 [==============================] - 2s 41ms/step - loss: 0.0810\n",
            "Epoch 9/100\n",
            "37/37 [==============================] - 2s 41ms/step - loss: 0.0627\n",
            "Epoch 10/100\n",
            "37/37 [==============================] - 2s 42ms/step - loss: 0.0669\n",
            "Epoch 11/100\n",
            "37/37 [==============================] - 2s 42ms/step - loss: 0.0507\n",
            "Epoch 12/100\n",
            "37/37 [==============================] - 2s 43ms/step - loss: 0.0424\n",
            "Epoch 13/100\n",
            "37/37 [==============================] - 2s 61ms/step - loss: 0.0390\n",
            "Epoch 14/100\n",
            "37/37 [==============================] - 3s 71ms/step - loss: 0.0342\n",
            "Epoch 15/100\n",
            "37/37 [==============================] - 2s 44ms/step - loss: 0.0334\n",
            "Epoch 16/100\n",
            "37/37 [==============================] - 2s 43ms/step - loss: 0.0313\n",
            "Epoch 17/100\n",
            "37/37 [==============================] - 2s 42ms/step - loss: 0.0286\n",
            "Epoch 18/100\n",
            "37/37 [==============================] - 2s 59ms/step - loss: 0.0247\n",
            "Epoch 19/100\n",
            "37/37 [==============================] - 4s 96ms/step - loss: 0.0211\n",
            "Epoch 20/100\n",
            "37/37 [==============================] - 2s 58ms/step - loss: 0.0191\n",
            "Epoch 21/100\n",
            "37/37 [==============================] - 2s 41ms/step - loss: 0.0186\n",
            "Epoch 22/100\n",
            "37/37 [==============================] - 2s 41ms/step - loss: 0.0171\n",
            "Epoch 23/100\n",
            "37/37 [==============================] - 2s 42ms/step - loss: 0.0149\n",
            "Epoch 24/100\n",
            "37/37 [==============================] - 2s 42ms/step - loss: 0.0157\n",
            "Epoch 25/100\n",
            "37/37 [==============================] - 2s 44ms/step - loss: 0.0131\n",
            "Epoch 26/100\n",
            "37/37 [==============================] - 2s 41ms/step - loss: 0.0133\n",
            "Epoch 27/100\n",
            "37/37 [==============================] - 2s 42ms/step - loss: 0.0112\n",
            "Epoch 28/100\n",
            "37/37 [==============================] - 2s 41ms/step - loss: 0.0120\n",
            "Epoch 29/100\n",
            "37/37 [==============================] - 2s 45ms/step - loss: 0.0111\n",
            "Epoch 30/100\n",
            "37/37 [==============================] - 2s 42ms/step - loss: 0.0108\n",
            "Epoch 31/100\n",
            "37/37 [==============================] - 2s 43ms/step - loss: 0.0102\n",
            "Epoch 32/100\n",
            "37/37 [==============================] - 2s 45ms/step - loss: 0.0102\n",
            "Epoch 33/100\n",
            "37/37 [==============================] - 2s 42ms/step - loss: 0.0087\n",
            "Epoch 34/100\n",
            "37/37 [==============================] - 2s 42ms/step - loss: 0.0087\n",
            "Epoch 35/100\n",
            "37/37 [==============================] - 2s 41ms/step - loss: 0.0084\n",
            "Epoch 36/100\n",
            "37/37 [==============================] - 2s 41ms/step - loss: 0.0075\n",
            "Epoch 37/100\n",
            "37/37 [==============================] - 2s 41ms/step - loss: 0.0072\n",
            "Epoch 38/100\n",
            "37/37 [==============================] - 2s 42ms/step - loss: 0.0073\n",
            "Epoch 39/100\n",
            "37/37 [==============================] - 2s 42ms/step - loss: 0.0068\n",
            "Epoch 40/100\n",
            "37/37 [==============================] - 2s 41ms/step - loss: 0.0064\n",
            "Epoch 41/100\n",
            "37/37 [==============================] - 1s 40ms/step - loss: 0.0068\n",
            "Epoch 42/100\n",
            "37/37 [==============================] - 2s 44ms/step - loss: 0.0063\n",
            "Epoch 43/100\n",
            "37/37 [==============================] - 2s 42ms/step - loss: 0.0058\n",
            "Epoch 44/100\n",
            "37/37 [==============================] - 2s 44ms/step - loss: 0.0060\n",
            "Epoch 45/100\n",
            "37/37 [==============================] - 2s 41ms/step - loss: 0.0059\n",
            "Epoch 46/100\n",
            "37/37 [==============================] - 2s 41ms/step - loss: 0.0057\n",
            "Epoch 47/100\n",
            "37/37 [==============================] - 2s 42ms/step - loss: 0.0052\n",
            "Epoch 48/100\n",
            "37/37 [==============================] - 2s 40ms/step - loss: 0.0054\n",
            "Epoch 49/100\n",
            "37/37 [==============================] - 2s 42ms/step - loss: 0.0052\n",
            "Epoch 50/100\n",
            "37/37 [==============================] - 2s 42ms/step - loss: 0.0048\n",
            "Epoch 51/100\n",
            "37/37 [==============================] - 2s 40ms/step - loss: 0.0053\n",
            "Epoch 52/100\n",
            "37/37 [==============================] - 2s 41ms/step - loss: 0.0051\n",
            "Epoch 53/100\n",
            "37/37 [==============================] - 1s 40ms/step - loss: 0.0046\n",
            "Epoch 54/100\n",
            "37/37 [==============================] - 2s 44ms/step - loss: 0.0049\n",
            "Epoch 55/100\n",
            "37/37 [==============================] - 2s 43ms/step - loss: 0.0041\n",
            "Epoch 56/100\n",
            "37/37 [==============================] - 2s 43ms/step - loss: 0.0043\n",
            "Epoch 57/100\n",
            "37/37 [==============================] - 2s 41ms/step - loss: 0.0039\n",
            "Epoch 58/100\n",
            "37/37 [==============================] - 2s 45ms/step - loss: 0.0042\n",
            "Epoch 59/100\n",
            "37/37 [==============================] - 2s 42ms/step - loss: 0.0043\n",
            "Epoch 60/100\n",
            "37/37 [==============================] - 2s 44ms/step - loss: 0.0044\n",
            "Epoch 61/100\n",
            "37/37 [==============================] - 2s 57ms/step - loss: 0.0039\n",
            "Epoch 62/100\n",
            "37/37 [==============================] - 3s 73ms/step - loss: 0.0038\n",
            "Epoch 63/100\n",
            "37/37 [==============================] - 2s 42ms/step - loss: 0.0039\n",
            "Epoch 64/100\n",
            "37/37 [==============================] - 2s 42ms/step - loss: 0.0037\n",
            "Epoch 65/100\n",
            "37/37 [==============================] - 2s 45ms/step - loss: 0.0039\n",
            "Epoch 66/100\n",
            "37/37 [==============================] - 2s 44ms/step - loss: 0.0038\n",
            "Epoch 67/100\n",
            "37/37 [==============================] - 3s 72ms/step - loss: 0.0035\n",
            "Epoch 68/100\n",
            "37/37 [==============================] - 2s 41ms/step - loss: 0.0039\n",
            "Epoch 69/100\n",
            "37/37 [==============================] - 2s 41ms/step - loss: 0.0036\n",
            "Epoch 70/100\n",
            "37/37 [==============================] - 1s 40ms/step - loss: 0.0036\n",
            "Epoch 71/100\n",
            "37/37 [==============================] - 2s 41ms/step - loss: 0.0034\n",
            "Epoch 72/100\n",
            "37/37 [==============================] - 2s 41ms/step - loss: 0.0031\n",
            "Epoch 73/100\n",
            "37/37 [==============================] - 2s 41ms/step - loss: 0.0032\n",
            "Epoch 74/100\n",
            "37/37 [==============================] - 2s 43ms/step - loss: 0.0035\n",
            "Epoch 75/100\n",
            "37/37 [==============================] - 2s 43ms/step - loss: 0.0031\n",
            "Epoch 76/100\n",
            "37/37 [==============================] - 2s 41ms/step - loss: 0.0030\n",
            "Epoch 77/100\n",
            "37/37 [==============================] - 2s 42ms/step - loss: 0.0035\n",
            "Epoch 78/100\n",
            "37/37 [==============================] - 2s 45ms/step - loss: 0.0031\n",
            "Epoch 79/100\n",
            "37/37 [==============================] - 2s 42ms/step - loss: 0.0030\n",
            "Epoch 80/100\n",
            "37/37 [==============================] - 2s 41ms/step - loss: 0.0032\n",
            "Epoch 81/100\n",
            "37/37 [==============================] - 2s 45ms/step - loss: 0.0029\n",
            "Epoch 82/100\n",
            "37/37 [==============================] - 2s 41ms/step - loss: 0.0029\n",
            "Epoch 83/100\n",
            "37/37 [==============================] - 2s 41ms/step - loss: 0.0027\n",
            "Epoch 84/100\n",
            "37/37 [==============================] - 2s 42ms/step - loss: 0.0036\n",
            "Epoch 85/100\n",
            "37/37 [==============================] - 2s 43ms/step - loss: 0.0026\n",
            "Epoch 86/100\n",
            "37/37 [==============================] - 2s 42ms/step - loss: 0.0025\n",
            "Epoch 87/100\n",
            "37/37 [==============================] - 2s 41ms/step - loss: 0.0027\n",
            "Epoch 88/100\n",
            "37/37 [==============================] - 2s 42ms/step - loss: 0.0028\n",
            "Epoch 89/100\n",
            "37/37 [==============================] - 2s 45ms/step - loss: 0.0026\n",
            "Epoch 90/100\n",
            "37/37 [==============================] - 3s 70ms/step - loss: 0.0025\n",
            "Epoch 91/100\n",
            "37/37 [==============================] - 2s 44ms/step - loss: 0.0027\n",
            "Epoch 92/100\n",
            "37/37 [==============================] - 1s 40ms/step - loss: 0.0028\n",
            "Epoch 93/100\n",
            "37/37 [==============================] - 2s 41ms/step - loss: 0.0027\n",
            "Epoch 94/100\n",
            "37/37 [==============================] - 2s 41ms/step - loss: 0.0023\n",
            "Epoch 95/100\n",
            "37/37 [==============================] - 2s 41ms/step - loss: 0.0026\n",
            "Epoch 96/100\n",
            "37/37 [==============================] - 2s 43ms/step - loss: 0.0023\n",
            "Epoch 97/100\n",
            "37/37 [==============================] - 2s 42ms/step - loss: 0.0023\n",
            "Epoch 98/100\n",
            "37/37 [==============================] - 2s 41ms/step - loss: 0.0023\n",
            "Epoch 99/100\n",
            "37/37 [==============================] - 2s 45ms/step - loss: 0.0022\n",
            "Epoch 100/100\n",
            "37/37 [==============================] - 2s 43ms/step - loss: 0.0022\n"
          ]
        },
        {
          "output_type": "execute_result",
          "data": {
            "text/plain": [
              "<keras.callbacks.History at 0x7efffb1b3690>"
            ]
          },
          "metadata": {},
          "execution_count": 16
        }
      ],
      "source": [
        "# RNN\n",
        "\n",
        "\n",
        "# Import Library \n",
        "from keras.models import Sequential\n",
        "from keras.layers import Dense, SimpleRNN, Dropout\n",
        "\n",
        "# Initialising the RNN\n",
        "regressor = Sequential()\n",
        "\n",
        "# Add the first RNN layer and some Dropout regularisation\n",
        "regressor.add(SimpleRNN(units = 50, activation = \"tanh\", return_sequences = True, input_shape = (X_train.shape[1], 1)))\n",
        "regressor.add(Dropout(0.2))\n",
        "\n",
        "# Second RNN layer and some Dropout regularisation\n",
        "regressor.add(SimpleRNN(units = 50, activation = \"tanh\", return_sequences = True))\n",
        "regressor.add(Dropout(0.2))\n",
        "\n",
        "# Third RNN layer and some Dropout regularisation\n",
        "regressor.add(SimpleRNN(units = 50, activation = \"tanh\", return_sequences = True))\n",
        "regressor.add(Dropout(0.2))\n",
        "\n",
        "# Fourth RNN layer and some Dropout regularisation\n",
        "regressor.add(SimpleRNN(units = 50))\n",
        "regressor.add(Dropout(0.2))\n",
        "\n",
        "# Add the output layer\n",
        "regressor.add(Dense(units = 1))\n",
        "\n",
        "# Compiling the RNN\n",
        "regressor.compile(optimizer = \"adam\", loss = \"mean_squared_error\")\n",
        "\n",
        "# Fitting the RNN to the training set\n",
        "regressor.fit(X_train, Y_train, epochs = 100, batch_size = 32)"
      ]
    },
    {
      "cell_type": "code",
      "execution_count": 17,
      "id": "05cb8ab5",
      "metadata": {
        "execution": {
          "iopub.execute_input": "2022-09-08T14:55:30.284097Z",
          "iopub.status.busy": "2022-09-08T14:55:30.282811Z",
          "iopub.status.idle": "2022-09-08T14:55:30.288596Z",
          "shell.execute_reply": "2022-09-08T14:55:30.287308Z"
        },
        "papermill": {
          "duration": 0.283901,
          "end_time": "2022-09-08T14:55:30.290538",
          "exception": false,
          "start_time": "2022-09-08T14:55:30.006637",
          "status": "completed"
        },
        "tags": [],
        "id": "05cb8ab5"
      },
      "outputs": [],
      "source": [
        "inputs = data_set[len(data_set) - len(test) - timesteps:]\n",
        "inputs = scaler.transform(inputs)"
      ]
    },
    {
      "cell_type": "code",
      "execution_count": 18,
      "id": "e804db45",
      "metadata": {
        "execution": {
          "iopub.execute_input": "2022-09-08T14:55:30.677320Z",
          "iopub.status.busy": "2022-09-08T14:55:30.676568Z",
          "iopub.status.idle": "2022-09-08T14:55:31.234012Z",
          "shell.execute_reply": "2022-09-08T14:55:31.232715Z"
        },
        "papermill": {
          "duration": 0.748737,
          "end_time": "2022-09-08T14:55:31.236668",
          "exception": false,
          "start_time": "2022-09-08T14:55:30.487931",
          "status": "completed"
        },
        "tags": [],
        "id": "e804db45"
      },
      "outputs": [],
      "source": [
        "X_test = []\n",
        "for i in range(timesteps, inputs.shape[0]):\n",
        "    X_test.append(inputs[i - timesteps:i, 0])\n",
        "    \n",
        "X_test_rnn = np.array(X_test)\n",
        "X_test_rnn = np.reshape(X_test_rnn, (X_test_rnn.shape[0], X_test_rnn.shape[1], 1))\n",
        "predicted_stock_price = regressor.predict(X_test_rnn)\n",
        "predicted_stock_price = scaler.inverse_transform(predicted_stock_price)"
      ]
    },
    {
      "cell_type": "code",
      "execution_count": 19,
      "id": "4e4ac081",
      "metadata": {
        "execution": {
          "iopub.execute_input": "2022-09-08T14:55:32.046133Z",
          "iopub.status.busy": "2022-09-08T14:55:32.045831Z",
          "iopub.status.idle": "2022-09-08T14:55:32.210265Z",
          "shell.execute_reply": "2022-09-08T14:55:32.209253Z"
        },
        "papermill": {
          "duration": 0.36938,
          "end_time": "2022-09-08T14:55:32.212064",
          "exception": false,
          "start_time": "2022-09-08T14:55:31.842684",
          "status": "completed"
        },
        "tags": [],
        "colab": {
          "base_uri": "https://localhost:8080/",
          "height": 295
        },
        "id": "4e4ac081",
        "outputId": "360da97e-22ab-4129-df2f-e10336c59c3e"
      },
      "outputs": [
        {
          "output_type": "display_data",
          "data": {
            "text/plain": [
              "<Figure size 432x288 with 1 Axes>"
            ],
            "image/png": "[encoded data removed]"
          },
          "metadata": {
            "needs_background": "light"
          }
        }
      ],
      "source": [
        "# visualising the results\n",
        "plt.plot(test, color = \"red\", label = \"Real Google Stock Price\")\n",
        "plt.plot(predicted_stock_price, color = \"blue\", label = \"Predicted Google Stock Price\")\n",
        "plt.title(\"Google Stock Price Prediction\")\n",
        "plt.xlabel(\"Time\")\n",
        "plt.ylabel(\"Google Stock Price\")\n",
        "plt.legend()\n",
        "plt.show()"
      ]
    },
    {
      "cell_type": "markdown",
      "id": "44444c92",
      "metadata": {
        "papermill": {
          "duration": 0.193197,
          "end_time": "2022-09-08T14:55:33.058660",
          "exception": false,
          "start_time": "2022-09-08T14:55:32.865463",
          "status": "completed"
        },
        "tags": [],
        "id": "44444c92"
      },
      "source": [
        "## Create And Training LSTM Model "
      ]
    },
    {
      "cell_type": "code",
      "execution_count": 20,
      "id": "95c40635",
      "metadata": {
        "execution": {
          "iopub.execute_input": "2022-09-08T14:55:33.879434Z",
          "iopub.status.busy": "2022-09-08T14:55:33.878849Z",
          "iopub.status.idle": "2022-09-08T14:55:33.883626Z",
          "shell.execute_reply": "2022-09-08T14:55:33.882618Z"
        },
        "papermill": {
          "duration": 0.212925,
          "end_time": "2022-09-08T14:55:33.885731",
          "exception": false,
          "start_time": "2022-09-08T14:55:33.672806",
          "status": "completed"
        },
        "tags": [],
        "id": "95c40635"
      },
      "outputs": [],
      "source": [
        "trainX = np.reshape(X_train, (X_train.shape[0], 1, X_train.shape[1]))"
      ]
    },
    {
      "cell_type": "code",
      "execution_count": 21,
      "id": "4040b3b8",
      "metadata": {
        "execution": {
          "iopub.execute_input": "2022-09-08T14:55:34.340955Z",
          "iopub.status.busy": "2022-09-08T14:55:34.340267Z",
          "iopub.status.idle": "2022-09-08T14:55:34.395779Z",
          "shell.execute_reply": "2022-09-08T14:55:34.394746Z"
        },
        "papermill": {
          "duration": 0.26043,
          "end_time": "2022-09-08T14:55:34.398006",
          "exception": false,
          "start_time": "2022-09-08T14:55:34.137576",
          "status": "completed"
        },
        "tags": [],
        "id": "4040b3b8"
      },
      "outputs": [],
      "source": [
        "# Import Library For LSTM Model\n",
        "import math\n",
        "from keras.models import Sequential\n",
        "from keras.layers import Dense, LSTM\n",
        "from sklearn.preprocessing import MinMaxScaler\n",
        "from sklearn.metrics import mean_squared_error"
      ]
    },
    {
      "cell_type": "code",
      "execution_count": 22,
      "id": "606685ac",
      "metadata": {
        "execution": {
          "iopub.execute_input": "2022-09-08T14:55:35.206933Z",
          "iopub.status.busy": "2022-09-08T14:55:35.206457Z",
          "iopub.status.idle": "2022-09-08T14:57:12.620382Z",
          "shell.execute_reply": "2022-09-08T14:57:12.619631Z"
        },
        "papermill": {
          "duration": 97.61859,
          "end_time": "2022-09-08T14:57:12.621971",
          "exception": false,
          "start_time": "2022-09-08T14:55:35.003381",
          "status": "completed"
        },
        "tags": [],
        "colab": {
          "base_uri": "https://localhost:8080/"
        },
        "id": "606685ac",
        "outputId": "390f1e8d-0134-4d6a-94e0-8927fe59d79d"
      },
      "outputs": [
        {
          "output_type": "stream",
          "name": "stdout",
          "text": [
            "Epoch 1/50\n",
            "1158/1158 [==============================] - 4s 2ms/step - loss: 0.0030\n",
            "Epoch 2/50\n",
            "1158/1158 [==============================] - 2s 2ms/step - loss: 0.0013\n",
            "Epoch 3/50\n",
            "1158/1158 [==============================] - 3s 2ms/step - loss: 0.0010\n",
            "Epoch 4/50\n",
            "1158/1158 [==============================] - 2s 2ms/step - loss: 9.9637e-04\n",
            "Epoch 5/50\n",
            "1158/1158 [==============================] - 3s 2ms/step - loss: 9.6023e-04\n",
            "Epoch 6/50\n",
            "1158/1158 [==============================] - 2s 2ms/step - loss: 0.0011\n",
            "Epoch 7/50\n",
            "1158/1158 [==============================] - 2s 2ms/step - loss: 7.9675e-04\n",
            "Epoch 8/50\n",
            "1158/1158 [==============================] - 2s 2ms/step - loss: 8.5105e-04\n",
            "Epoch 9/50\n",
            "1158/1158 [==============================] - 3s 3ms/step - loss: 7.7319e-04\n",
            "Epoch 10/50\n",
            "1158/1158 [==============================] - 2s 2ms/step - loss: 8.2251e-04\n",
            "Epoch 11/50\n",
            "1158/1158 [==============================] - 2s 2ms/step - loss: 7.6259e-04\n",
            "Epoch 12/50\n",
            "1158/1158 [==============================] - 2s 2ms/step - loss: 6.7775e-04\n",
            "Epoch 13/50\n",
            "1158/1158 [==============================] - 2s 2ms/step - loss: 7.3287e-04\n",
            "Epoch 14/50\n",
            "1158/1158 [==============================] - 2s 2ms/step - loss: 7.9992e-04\n",
            "Epoch 15/50\n",
            "1158/1158 [==============================] - 2s 2ms/step - loss: 6.6998e-04\n",
            "Epoch 16/50\n",
            "1158/1158 [==============================] - 2s 2ms/step - loss: 7.0903e-04\n",
            "Epoch 17/50\n",
            "1158/1158 [==============================] - 2s 2ms/step - loss: 6.4977e-04\n",
            "Epoch 18/50\n",
            "1158/1158 [==============================] - 2s 2ms/step - loss: 6.6947e-04\n",
            "Epoch 19/50\n",
            "1158/1158 [==============================] - 2s 2ms/step - loss: 6.7601e-04\n",
            "Epoch 20/50\n",
            "1158/1158 [==============================] - 2s 2ms/step - loss: 6.1688e-04\n",
            "Epoch 21/50\n",
            "1158/1158 [==============================] - 2s 2ms/step - loss: 6.2285e-04\n",
            "Epoch 22/50\n",
            "1158/1158 [==============================] - 2s 2ms/step - loss: 5.8645e-04\n",
            "Epoch 23/50\n",
            "1158/1158 [==============================] - 2s 2ms/step - loss: 6.4925e-04\n",
            "Epoch 24/50\n",
            "1158/1158 [==============================] - 2s 2ms/step - loss: 6.4966e-04\n",
            "Epoch 25/50\n",
            "1158/1158 [==============================] - 2s 2ms/step - loss: 5.8637e-04\n",
            "Epoch 26/50\n",
            "1158/1158 [==============================] - 2s 2ms/step - loss: 5.7322e-04\n",
            "Epoch 27/50\n",
            "1158/1158 [==============================] - 2s 2ms/step - loss: 6.7068e-04\n",
            "Epoch 28/50\n",
            "1158/1158 [==============================] - 2s 2ms/step - loss: 6.6586e-04\n",
            "Epoch 29/50\n",
            "1158/1158 [==============================] - 2s 2ms/step - loss: 5.3915e-04\n",
            "Epoch 30/50\n",
            "1158/1158 [==============================] - 2s 2ms/step - loss: 6.1383e-04\n",
            "Epoch 31/50\n",
            "1158/1158 [==============================] - 2s 2ms/step - loss: 5.1674e-04\n",
            "Epoch 32/50\n",
            "1158/1158 [==============================] - 2s 2ms/step - loss: 5.7506e-04\n",
            "Epoch 33/50\n",
            "1158/1158 [==============================] - 2s 2ms/step - loss: 6.2526e-04\n",
            "Epoch 34/50\n",
            "1158/1158 [==============================] - 2s 2ms/step - loss: 5.7294e-04\n",
            "Epoch 35/50\n",
            "1158/1158 [==============================] - 2s 2ms/step - loss: 5.6830e-04\n",
            "Epoch 36/50\n",
            "1158/1158 [==============================] - 2s 2ms/step - loss: 5.3271e-04\n",
            "Epoch 37/50\n",
            "1158/1158 [==============================] - 2s 2ms/step - loss: 5.6325e-04\n",
            "Epoch 38/50\n",
            "1158/1158 [==============================] - 2s 2ms/step - loss: 5.2178e-04\n",
            "Epoch 39/50\n",
            "1158/1158 [==============================] - 2s 2ms/step - loss: 5.3356e-04\n",
            "Epoch 40/50\n",
            "1158/1158 [==============================] - 2s 2ms/step - loss: 5.1807e-04\n",
            "Epoch 41/50\n",
            "1158/1158 [==============================] - 2s 2ms/step - loss: 5.3257e-04\n",
            "Epoch 42/50\n",
            "1158/1158 [==============================] - 2s 2ms/step - loss: 5.3201e-04\n",
            "Epoch 43/50\n",
            "1158/1158 [==============================] - 2s 2ms/step - loss: 5.0885e-04\n",
            "Epoch 44/50\n",
            "1158/1158 [==============================] - 2s 2ms/step - loss: 5.1807e-04\n",
            "Epoch 45/50\n",
            "1158/1158 [==============================] - 2s 2ms/step - loss: 5.1861e-04\n",
            "Epoch 46/50\n",
            "1158/1158 [==============================] - 2s 2ms/step - loss: 4.6150e-04\n",
            "Epoch 47/50\n",
            "1158/1158 [==============================] - 2s 2ms/step - loss: 5.0696e-04\n",
            "Epoch 48/50\n",
            "1158/1158 [==============================] - 2s 2ms/step - loss: 5.2877e-04\n",
            "Epoch 49/50\n",
            "1158/1158 [==============================] - 2s 2ms/step - loss: 5.1756e-04\n",
            "Epoch 50/50\n",
            "1158/1158 [==============================] - 2s 2ms/step - loss: 5.2959e-04\n"
          ]
        },
        {
          "output_type": "execute_result",
          "data": {
            "text/plain": [
              "<keras.callbacks.History at 0x7efffad83c10>"
            ]
          },
          "metadata": {},
          "execution_count": 22
        }
      ],
      "source": [
        "model = Sequential()\n",
        "model.add(LSTM(10, input_shape = (1, timesteps)))\n",
        "model.add(Dense(1))\n",
        "model.compile(loss = \"mean_squared_error\", optimizer = \"adam\")\n",
        "model.fit(trainX, Y_train, epochs = 50, batch_size = 1)"
      ]
    },
    {
      "cell_type": "code",
      "execution_count": 23,
      "id": "0a5e72d4",
      "metadata": {
        "execution": {
          "iopub.execute_input": "2022-09-08T14:57:13.890227Z",
          "iopub.status.busy": "2022-09-08T14:57:13.889870Z",
          "iopub.status.idle": "2022-09-08T14:57:14.237598Z",
          "shell.execute_reply": "2022-09-08T14:57:14.236396Z"
        },
        "papermill": {
          "duration": 0.703389,
          "end_time": "2022-09-08T14:57:14.239983",
          "exception": false,
          "start_time": "2022-09-08T14:57:13.536594",
          "status": "completed"
        },
        "tags": [],
        "id": "0a5e72d4"
      },
      "outputs": [],
      "source": [
        "# Prepare test dataset\n",
        "testX = np.array(X_test)\n",
        "testX = testX.reshape(testX.shape[0], 1, testX.shape[1])\n",
        "\n",
        "# Predict with testX\n",
        "predict_lstm = model.predict(testX)\n",
        "predict_lstm = scaler.inverse_transform(predict_lstm)"
      ]
    },
    {
      "cell_type": "code",
      "execution_count": 24,
      "id": "97c123ff",
      "metadata": {
        "execution": {
          "iopub.execute_input": "2022-09-08T14:57:15.505891Z",
          "iopub.status.busy": "2022-09-08T14:57:15.505354Z",
          "iopub.status.idle": "2022-09-08T14:57:15.664587Z",
          "shell.execute_reply": "2022-09-08T14:57:15.663244Z"
        },
        "papermill": {
          "duration": 0.513471,
          "end_time": "2022-09-08T14:57:15.666719",
          "exception": false,
          "start_time": "2022-09-08T14:57:15.153248",
          "status": "completed"
        },
        "tags": [],
        "colab": {
          "base_uri": "https://localhost:8080/",
          "height": 295
        },
        "id": "97c123ff",
        "outputId": "bc1a1ad5-d2dc-49c1-dc17-7cca6d373238"
      },
      "outputs": [
        {
          "output_type": "display_data",
          "data": {
            "text/plain": [
              "<Figure size 432x288 with 1 Axes>"
            ],
            "image/png": "[encoded data removed]"
          },
          "metadata": {
            "needs_background": "light"
          }
        }
      ],
      "source": [
        "# visualising the results\n",
        "plt.plot(test, color = \"red\", label = \"Real Google Stock Price\")\n",
        "plt.plot(predict_lstm, color = \"blue\", label = \"Predicted Google Stock Price\")\n",
        "plt.title(\"Google Stock Price Prediction\")\n",
        "plt.xlabel(\"Time\")\n",
        "plt.ylabel(\"Google Stock Price\")\n",
        "plt.legend()\n",
        "plt.show()"
      ]
    },
    {
      "cell_type": "markdown",
      "source": [
        "## Conclusion\n",
        "LSTM has very low value of Loss as compared to RNN, so it is a better model"
      ],
      "metadata": {
        "id": "ttNBDHDqODdC"
      },
      "id": "ttNBDHDqODdC"
    },
    {
      "cell_type": "code",
      "source": [],
      "metadata": {
        "id": "v1g1yzbvOL96"
      },
      "id": "v1g1yzbvOL96",
      "execution_count": null,
      "outputs": []
    }
  ],
  "metadata": {
    "kernelspec": {
      "display_name": "Python 3",
      "language": "python",
      "name": "python3"
    },
    "language_info": {
      "codemirror_mode": {
        "name": "ipython",
        "version": 3
      },
      "file_extension": ".py",
      "mimetype": "text/x-python",
      "name": "python",
      "nbconvert_exporter": "python",
      "pygments_lexer": "ipython3",
      "version": "3.7.12"
    },
    "papermill": {
      "default_parameters": {},
      "duration": 571.368981,
      "end_time": "2022-09-08T14:57:19.481461",
      "environment_variables": {},
      "exception": null,
      "input_path": "__notebook__.ipynb",
      "output_path": "__notebook__.ipynb",
      "parameters": {},
      "start_time": "2022-09-08T14:47:48.112480",
      "version": "2.3.4"
    },
    "colab": {
      "provenance": []
    }
  },
  "nbformat": 4,
  "nbformat_minor": 5
}