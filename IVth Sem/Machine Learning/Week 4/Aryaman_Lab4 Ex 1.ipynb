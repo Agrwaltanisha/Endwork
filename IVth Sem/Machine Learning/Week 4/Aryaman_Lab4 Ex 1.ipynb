{
  "cells": [
    {
      "cell_type": "code",
      "source": [
        "import pandas as pd\n",
        "import seaborn as sns\n",
        "import matplotlib.pyplot as plt\n",
        "\n",
        "from sklearn.model_selection import train_test_split\n",
        "from sklearn.preprocessing import PolynomialFeatures\n",
        "from sklearn.linear_model import LinearRegression\n",
        "from sklearn.metrics import r2_score\n",
        "from sklearn.tree import DecisionTreeClassifier\n",
        "from sklearn.model_selection import GridSearchCV\n",
        "from sklearn import tree\n",
        "\n",
        "import graphviz\n",
        "\n",
        "%matplotlib inline"
      ],
      "outputs": [],
      "execution_count": null,
      "metadata": {
        "id": "0yfwqc9Xp401"
      }
    },
    {
      "cell_type": "markdown",
      "source": [
        "# Exercise 1"
      ],
      "metadata": {
        "id": "_AOSYDBGp0dF"
      }
    },
    {
      "cell_type": "code",
      "source": [
        "df = pd.read_csv('/content/German Credit Data.csv')"
      ],
      "outputs": [],
      "execution_count": null,
      "metadata": {
        "id": "QgO_PLfvp2_8"
      }
    },
    {
      "cell_type": "code",
      "source": [
        "df.head()"
      ],
      "outputs": [
        {
          "output_type": "execute_result",
          "execution_count": 5,
          "data": {
            "text/plain": "  checkin_acc  duration credit_history  amount savings_acc present_emp_since  \\\n0         A11         6            A34    1169         A65               A75   \n1         A12        48            A32    5951         A61               A73   \n2         A14        12            A34    2096         A61               A74   \n3         A11        42            A32    7882         A61               A74   \n4         A11        24            A33    4870         A61               A73   \n\n   inst_rate personal_status  residing_since  age inst_plans  num_credits  \\\n0          4             A93               4   67       A143            2   \n1          2             A92               2   22       A143            1   \n2          2             A93               3   49       A143            1   \n3          2             A93               4   45       A143            1   \n4          3             A93               4   53       A143            2   \n\n    job  status  \n0  A173       0  \n1  A173       1  \n2  A172       0  \n3  A173       0  \n4  A173       1  ",
            "text/html": "\n  <div id=\"df-a3d58afd-7780-4380-afc7-f5a883b09371\">\n    <div class=\"colab-df-container\">\n      <div>\n<style scoped>\n    .dataframe tbody tr th:only-of-type {\n        vertical-align: middle;\n    }\n\n    .dataframe tbody tr th {\n        vertical-align: top;\n    }\n\n    .dataframe thead th {\n        text-align: right;\n    }\n</style>\n<table border=\"1\" class=\"dataframe\">\n  <thead>\n    <tr style=\"text-align: right;\">\n      <th></th>\n      <th>checkin_acc</th>\n      <th>duration</th>\n      <th>credit_history</th>\n      <th>amount</th>\n      <th>savings_acc</th>\n      <th>present_emp_since</th>\n      <th>inst_rate</th>\n      <th>personal_status</th>\n      <th>residing_since</th>\n      <th>age</th>\n      <th>inst_plans</th>\n      <th>num_credits</th>\n      <th>job</th>\n      <th>status</th>\n    </tr>\n  </thead>\n  <tbody>\n    <tr>\n      <th>0</th>\n      <td>A11</td>\n      <td>6</td>\n      <td>A34</td>\n      <td>1169</td>\n      <td>A65</td>\n      <td>A75</td>\n      <td>4</td>\n      <td>A93</td>\n      <td>4</td>\n      <td>67</td>\n      <td>A143</td>\n      <td>2</td>\n      <td>A173</td>\n      <td>0</td>\n    </tr>\n    <tr>\n      <th>1</th>\n      <td>A12</td>\n      <td>48</td>\n      <td>A32</td>\n      <td>5951</td>\n      <td>A61</td>\n      <td>A73</td>\n      <td>2</td>\n      <td>A92</td>\n      <td>2</td>\n      <td>22</td>\n      <td>A143</td>\n      <td>1</td>\n      <td>A173</td>\n      <td>1</td>\n    </tr>\n    <tr>\n      <th>2</th>\n      <td>A14</td>\n      <td>12</td>\n      <td>A34</td>\n      <td>2096</td>\n      <td>A61</td>\n      <td>A74</td>\n      <td>2</td>\n      <td>A93</td>\n      <td>3</td>\n      <td>49</td>\n      <td>A143</td>\n      <td>1</td>\n      <td>A172</td>\n      <td>0</td>\n    </tr>\n    <tr>\n      <th>3</th>\n      <td>A11</td>\n      <td>42</td>\n      <td>A32</td>\n      <td>7882</td>\n      <td>A61</td>\n      <td>A74</td>\n      <td>2</td>\n      <td>A93</td>\n      <td>4</td>\n      <td>45</td>\n      <td>A143</td>\n      <td>1</td>\n      <td>A173</td>\n      <td>0</td>\n    </tr>\n    <tr>\n      <th>4</th>\n      <td>A11</td>\n      <td>24</td>\n      <td>A33</td>\n      <td>4870</td>\n      <td>A61</td>\n      <td>A73</td>\n      <td>3</td>\n      <td>A93</td>\n      <td>4</td>\n      <td>53</td>\n      <td>A143</td>\n      <td>2</td>\n      <td>A173</td>\n      <td>1</td>\n    </tr>\n  </tbody>\n</table>\n</div>\n      <button class=\"colab-df-convert\" onclick=\"convertToInteractive('df-a3d58afd-7780-4380-afc7-f5a883b09371')\"\n              title=\"Convert this dataframe to an interactive table.\"\n              style=\"display:none;\">\n        \n  <svg xmlns=\"http://www.w3.org/2000/svg\" height=\"24px\"viewBox=\"0 0 24 24\"\n       width=\"24px\">\n    <path d=\"M0 0h24v24H0V0z\" fill=\"none\"/>\n    <path d=\"M18.56 5.44l.94 2.06.94-2.06 2.06-.94-2.06-.94-.94-2.06-.94 2.06-2.06.94zm-11 1L8.5 8.5l.94-2.06 2.06-.94-2.06-.94L8.5 2.5l-.94 2.06-2.06.94zm10 10l.94 2.06.94-2.06 2.06-.94-2.06-.94-.94-2.06-.94 2.06-2.06.94z\"/><path d=\"M17.41 7.96l-1.37-1.37c-.4-.4-.92-.59-1.43-.59-.52 0-1.04.2-1.43.59L10.3 9.45l-7.72 7.72c-.78.78-.78 2.05 0 2.83L4 21.41c.39.39.9.59 1.41.59.51 0 1.02-.2 1.41-.59l7.78-7.78 2.81-2.81c.8-.78.8-2.07 0-2.86zM5.41 20L4 18.59l7.72-7.72 1.47 1.35L5.41 20z\"/>\n  </svg>\n      </button>\n      \n  <style>\n    .colab-df-container {\n      display:flex;\n      flex-wrap:wrap;\n      gap: 12px;\n    }\n\n    .colab-df-convert {\n      background-color: #E8F0FE;\n      border: none;\n      border-radius: 50%;\n      cursor: pointer;\n      display: none;\n      fill: #1967D2;\n      height: 32px;\n      padding: 0 0 0 0;\n      width: 32px;\n    }\n\n    .colab-df-convert:hover {\n      background-color: #E2EBFA;\n      box-shadow: 0px 1px 2px rgba(60, 64, 67, 0.3), 0px 1px 3px 1px rgba(60, 64, 67, 0.15);\n      fill: #174EA6;\n    }\n\n    [theme=dark] .colab-df-convert {\n      background-color: #3B4455;\n      fill: #D2E3FC;\n    }\n\n    [theme=dark] .colab-df-convert:hover {\n      background-color: #434B5C;\n      box-shadow: 0px 1px 3px 1px rgba(0, 0, 0, 0.15);\n      filter: drop-shadow(0px 1px 2px rgba(0, 0, 0, 0.3));\n      fill: #FFFFFF;\n    }\n  </style>\n\n      <script>\n        const buttonEl =\n          document.querySelector('#df-a3d58afd-7780-4380-afc7-f5a883b09371 button.colab-df-convert');\n        buttonEl.style.display =\n          google.colab.kernel.accessAllowed ? 'block' : 'none';\n\n        async function convertToInteractive(key) {\n          const element = document.querySelector('#df-a3d58afd-7780-4380-afc7-f5a883b09371');\n          const dataTable =\n            await google.colab.kernel.invokeFunction('convertToInteractive',\n                                                     [key], {});\n          if (!dataTable) return;\n\n          const docLinkHtml = 'Like what you see? Visit the ' +\n            '<a target=\"_blank\" href=https://colab.research.google.com/notebooks/data_table.ipynb>data table notebook</a>'\n            + ' to learn more about interactive tables.';\n          element.innerHTML = '';\n          dataTable['output_type'] = 'display_data';\n          await google.colab.output.renderOutput(dataTable, element);\n          const docLink = document.createElement('div');\n          docLink.innerHTML = docLinkHtml;\n          element.appendChild(docLink);\n        }\n      </script>\n    </div>\n  </div>\n  "
          },
          "metadata": {}
        }
      ],
      "execution_count": null,
      "metadata": {
        "colab": {
          "base_uri": "https://localhost:8080/",
          "height": 270
        },
        "id": "PsgNnUwaO45w",
        "outputId": "dbbf48c0-c6e0-4df2-b035-7bfcfb0f6e87"
      }
    },
    {
      "cell_type": "code",
      "source": [
        "\"\"\"\n",
        "Using pd.get_dummies() for the categorical data, this works pretty well for this case\n",
        "since the number of unique values in each categorical column is pretty low\n",
        "around 5.\n",
        "\"\"\"\n",
        "df = pd.get_dummies(df)"
      ],
      "outputs": [],
      "execution_count": null,
      "metadata": {
        "id": "6r_z5pA1UuIs"
      }
    },
    {
      "cell_type": "code",
      "source": [
        "df.isnull().sum()"
      ],
      "outputs": [
        {
          "output_type": "execute_result",
          "execution_count": 7,
          "data": {
            "text/plain": "duration                 0\namount                   0\ninst_rate                0\nresiding_since           0\nage                      0\nnum_credits              0\nstatus                   0\ncheckin_acc_A11          0\ncheckin_acc_A12          0\ncheckin_acc_A13          0\ncheckin_acc_A14          0\ncredit_history_A30       0\ncredit_history_A31       0\ncredit_history_A32       0\ncredit_history_A33       0\ncredit_history_A34       0\nsavings_acc_A61          0\nsavings_acc_A62          0\nsavings_acc_A63          0\nsavings_acc_A64          0\nsavings_acc_A65          0\npresent_emp_since_A71    0\npresent_emp_since_A72    0\npresent_emp_since_A73    0\npresent_emp_since_A74    0\npresent_emp_since_A75    0\npersonal_status_A91      0\npersonal_status_A92      0\npersonal_status_A93      0\npersonal_status_A94      0\ninst_plans_A141          0\ninst_plans_A142          0\ninst_plans_A143          0\njob_A171                 0\njob_A172                 0\njob_A173                 0\njob_A174                 0\ndtype: int64"
          },
          "metadata": {}
        }
      ],
      "execution_count": null,
      "metadata": {
        "colab": {
          "base_uri": "https://localhost:8080/"
        },
        "id": "w93bYLJWO6cS",
        "outputId": "91027de5-4e24-4da9-87d0-7fefb62c000b"
      }
    },
    {
      "cell_type": "code",
      "source": [
        "\"\"\"\n",
        "It should be noticed that the dataset is not balanced, this could\n",
        "effect the significance of accuracy values.\n",
        "\"\"\"\n",
        "(df.status.value_counts() / len(df)) * 100"
      ],
      "outputs": [
        {
          "output_type": "execute_result",
          "execution_count": 10,
          "data": {
            "text/plain": "0    70.0\n1    30.0\nName: status, dtype: float64"
          },
          "metadata": {}
        }
      ],
      "execution_count": null,
      "metadata": {
        "colab": {
          "base_uri": "https://localhost:8080/"
        },
        "id": "GEUJDfNLPbjB",
        "outputId": "5e386a07-09eb-48fe-88aa-c6f30983cf34"
      }
    },
    {
      "cell_type": "code",
      "source": [
        "X_cols = [x for x in df.columns if x != 'status']\n",
        "y_col = ['status']\n",
        "X = df[X_cols].to_numpy()\n",
        "y = df[y_col].to_numpy()\n",
        "print(X.shape, y.shape)"
      ],
      "outputs": [
        {
          "output_type": "stream",
          "name": "stdout",
          "text": "(1000, 36) (1000, 1)\n"
        }
      ],
      "execution_count": null,
      "metadata": {
        "colab": {
          "base_uri": "https://localhost:8080/"
        },
        "id": "HRY5Tbj6O8pq",
        "outputId": "af1ba746-f964-4099-cba5-72abd42a07ad"
      }
    },
    {
      "cell_type": "code",
      "source": [
        "tree_params = {'criterion':['gini','entropy'],\n",
        "               'max_depth':[x for x in range(2, 11)]}\n",
        "\n",
        "clf = GridSearchCV(DecisionTreeClassifier(), tree_params, cv=10, scoring='roc_auc')\n",
        "\n",
        "clf.fit(X, y)"
      ],
      "outputs": [
        {
          "output_type": "execute_result",
          "execution_count": 13,
          "data": {
            "text/plain": "GridSearchCV(cv=10, estimator=DecisionTreeClassifier(),\n             param_grid={'criterion': ['gini', 'entropy'],\n                         'max_depth': [2, 3, 4, 5, 6, 7, 8, 9, 10]},\n             scoring='roc_auc')"
          },
          "metadata": {}
        }
      ],
      "execution_count": null,
      "metadata": {
        "colab": {
          "base_uri": "https://localhost:8080/"
        },
        "id": "8BNX6V4VQB7r",
        "outputId": "f90463a0-f29d-4cdb-feb6-b4e0b266923b"
      }
    },
    {
      "cell_type": "code",
      "source": [
        "clf.best_params_, clf.best_score_"
      ],
      "outputs": [
        {
          "output_type": "execute_result",
          "execution_count": 14,
          "data": {
            "text/plain": "({'criterion': 'gini', 'max_depth': 2}, 0.7088809523809524)"
          },
          "metadata": {}
        }
      ],
      "execution_count": null,
      "metadata": {
        "colab": {
          "base_uri": "https://localhost:8080/"
        },
        "id": "aRNle5HeVhwn",
        "outputId": "22776a64-91ad-4640-bf31-3ef627cc9082"
      }
    },
    {
      "cell_type": "code",
      "source": [
        "dot_data = tree.export_graphviz(clf.best_estimator_, out_file=None, \n",
        "                                feature_names=X_cols,  \n",
        "                                class_names=['0', '1'],\n",
        "                                filled=True)\n",
        "\n",
        "graph = graphviz.Source(dot_data, format=\"png\") \n",
        "graph"
      ],
      "outputs": [
        {
          "output_type": "execute_result",
          "execution_count": 15,
          "data": {
            "text/plain": "<graphviz.files.Source at 0x7f77ef56a450>",
            "image/svg+xml": "<?xml version=\"1.0\" encoding=\"UTF-8\" standalone=\"no\"?>\n<!DOCTYPE svg PUBLIC \"-//W3C//DTD SVG 1.1//EN\"\n \"http://www.w3.org/Graphics/SVG/1.1/DTD/svg11.dtd\">\n<!-- Generated by graphviz version 2.40.1 (20161225.0304)\n -->\n<!-- Title: Tree Pages: 1 -->\n<svg width=\"579pt\" height=\"314pt\"\n viewBox=\"0.00 0.00 579.00 314.00\" xmlns=\"http://www.w3.org/2000/svg\" xmlns:xlink=\"http://www.w3.org/1999/xlink\">\n<g id=\"graph0\" class=\"graph\" transform=\"scale(1 1) rotate(0) translate(4 310)\">\n<title>Tree</title>\n<polygon fill=\"#ffffff\" stroke=\"transparent\" points=\"-4,4 -4,-310 575,-310 575,4 -4,4\"/>\n<!-- 0 -->\n<g id=\"node1\" class=\"node\">\n<title>0</title>\n<polygon fill=\"#f0b78e\" stroke=\"#000000\" points=\"381.5,-306 204.5,-306 204.5,-223 381.5,-223 381.5,-306\"/>\n<text text-anchor=\"middle\" x=\"293\" y=\"-290.8\" font-family=\"Helvetica,sans-Serif\" font-size=\"14.00\" fill=\"#000000\">checkin_acc_A14 &lt;= 0.5</text>\n<text text-anchor=\"middle\" x=\"293\" y=\"-275.8\" font-family=\"Helvetica,sans-Serif\" font-size=\"14.00\" fill=\"#000000\">gini = 0.42</text>\n<text text-anchor=\"middle\" x=\"293\" y=\"-260.8\" font-family=\"Helvetica,sans-Serif\" font-size=\"14.00\" fill=\"#000000\">samples = 1000</text>\n<text text-anchor=\"middle\" x=\"293\" y=\"-245.8\" font-family=\"Helvetica,sans-Serif\" font-size=\"14.00\" fill=\"#000000\">value = [700, 300]</text>\n<text text-anchor=\"middle\" x=\"293\" y=\"-230.8\" font-family=\"Helvetica,sans-Serif\" font-size=\"14.00\" fill=\"#000000\">class = 0</text>\n</g>\n<!-- 1 -->\n<g id=\"node2\" class=\"node\">\n<title>1</title>\n<polygon fill=\"#f8dcc8\" stroke=\"#000000\" points=\"275,-187 143,-187 143,-104 275,-104 275,-187\"/>\n<text text-anchor=\"middle\" x=\"209\" y=\"-171.8\" font-family=\"Helvetica,sans-Serif\" font-size=\"14.00\" fill=\"#000000\">duration &lt;= 22.5</text>\n<text text-anchor=\"middle\" x=\"209\" y=\"-156.8\" font-family=\"Helvetica,sans-Serif\" font-size=\"14.00\" fill=\"#000000\">gini = 0.487</text>\n<text text-anchor=\"middle\" x=\"209\" y=\"-141.8\" font-family=\"Helvetica,sans-Serif\" font-size=\"14.00\" fill=\"#000000\">samples = 606</text>\n<text text-anchor=\"middle\" x=\"209\" y=\"-126.8\" font-family=\"Helvetica,sans-Serif\" font-size=\"14.00\" fill=\"#000000\">value = [352, 254]</text>\n<text text-anchor=\"middle\" x=\"209\" y=\"-111.8\" font-family=\"Helvetica,sans-Serif\" font-size=\"14.00\" fill=\"#000000\">class = 0</text>\n</g>\n<!-- 0&#45;&gt;1 -->\n<g id=\"edge1\" class=\"edge\">\n<title>0&#45;&gt;1</title>\n<path fill=\"none\" stroke=\"#000000\" d=\"M263.6209,-222.8796C257.3906,-214.0534 250.7519,-204.6485 244.327,-195.5466\"/>\n<polygon fill=\"#000000\" stroke=\"#000000\" points=\"247.1308,-193.4494 238.5045,-187.2981 241.412,-197.4862 247.1308,-193.4494\"/>\n<text text-anchor=\"middle\" x=\"234.2568\" y=\"-208.2346\" font-family=\"Helvetica,sans-Serif\" font-size=\"14.00\" fill=\"#000000\">True</text>\n</g>\n<!-- 4 -->\n<g id=\"node5\" class=\"node\">\n<title>4</title>\n<polygon fill=\"#e89253\" stroke=\"#000000\" points=\"463,-187 293,-187 293,-104 463,-104 463,-187\"/>\n<text text-anchor=\"middle\" x=\"378\" y=\"-171.8\" font-family=\"Helvetica,sans-Serif\" font-size=\"14.00\" fill=\"#000000\">inst_plans_A143 &lt;= 0.5</text>\n<text text-anchor=\"middle\" x=\"378\" y=\"-156.8\" font-family=\"Helvetica,sans-Serif\" font-size=\"14.00\" fill=\"#000000\">gini = 0.206</text>\n<text text-anchor=\"middle\" x=\"378\" y=\"-141.8\" font-family=\"Helvetica,sans-Serif\" font-size=\"14.00\" fill=\"#000000\">samples = 394</text>\n<text text-anchor=\"middle\" x=\"378\" y=\"-126.8\" font-family=\"Helvetica,sans-Serif\" font-size=\"14.00\" fill=\"#000000\">value = [348, 46]</text>\n<text text-anchor=\"middle\" x=\"378\" y=\"-111.8\" font-family=\"Helvetica,sans-Serif\" font-size=\"14.00\" fill=\"#000000\">class = 0</text>\n</g>\n<!-- 0&#45;&gt;4 -->\n<g id=\"edge4\" class=\"edge\">\n<title>0&#45;&gt;4</title>\n<path fill=\"none\" stroke=\"#000000\" d=\"M322.7289,-222.8796C329.0333,-214.0534 335.751,-204.6485 342.2524,-195.5466\"/>\n<polygon fill=\"#000000\" stroke=\"#000000\" points=\"345.1799,-197.4698 348.1442,-187.2981 339.4837,-193.4011 345.1799,-197.4698\"/>\n<text text-anchor=\"middle\" x=\"352.2542\" y=\"-208.2579\" font-family=\"Helvetica,sans-Serif\" font-size=\"14.00\" fill=\"#000000\">False</text>\n</g>\n<!-- 2 -->\n<g id=\"node3\" class=\"node\">\n<title>2</title>\n<polygon fill=\"#f2c09c\" stroke=\"#000000\" points=\"132,-68 0,-68 0,0 132,0 132,-68\"/>\n<text text-anchor=\"middle\" x=\"66\" y=\"-52.8\" font-family=\"Helvetica,sans-Serif\" font-size=\"14.00\" fill=\"#000000\">gini = 0.444</text>\n<text text-anchor=\"middle\" x=\"66\" y=\"-37.8\" font-family=\"Helvetica,sans-Serif\" font-size=\"14.00\" fill=\"#000000\">samples = 349</text>\n<text text-anchor=\"middle\" x=\"66\" y=\"-22.8\" font-family=\"Helvetica,sans-Serif\" font-size=\"14.00\" fill=\"#000000\">value = [233, 116]</text>\n<text text-anchor=\"middle\" x=\"66\" y=\"-7.8\" font-family=\"Helvetica,sans-Serif\" font-size=\"14.00\" fill=\"#000000\">class = 0</text>\n</g>\n<!-- 1&#45;&gt;2 -->\n<g id=\"edge2\" class=\"edge\">\n<title>1&#45;&gt;2</title>\n<path fill=\"none\" stroke=\"#000000\" d=\"M155.7521,-103.9815C143.3756,-94.3313 130.2172,-84.0714 117.8997,-74.4673\"/>\n<polygon fill=\"#000000\" stroke=\"#000000\" points=\"119.9818,-71.6525 109.9435,-68.2637 115.6775,-77.1728 119.9818,-71.6525\"/>\n</g>\n<!-- 3 -->\n<g id=\"node4\" class=\"node\">\n<title>3</title>\n<polygon fill=\"#e4f2fb\" stroke=\"#000000\" points=\"282,-68 150,-68 150,0 282,0 282,-68\"/>\n<text text-anchor=\"middle\" x=\"216\" y=\"-52.8\" font-family=\"Helvetica,sans-Serif\" font-size=\"14.00\" fill=\"#000000\">gini = 0.497</text>\n<text text-anchor=\"middle\" x=\"216\" y=\"-37.8\" font-family=\"Helvetica,sans-Serif\" font-size=\"14.00\" fill=\"#000000\">samples = 257</text>\n<text text-anchor=\"middle\" x=\"216\" y=\"-22.8\" font-family=\"Helvetica,sans-Serif\" font-size=\"14.00\" fill=\"#000000\">value = [119, 138]</text>\n<text text-anchor=\"middle\" x=\"216\" y=\"-7.8\" font-family=\"Helvetica,sans-Serif\" font-size=\"14.00\" fill=\"#000000\">class = 1</text>\n</g>\n<!-- 1&#45;&gt;3 -->\n<g id=\"edge3\" class=\"edge\">\n<title>1&#45;&gt;3</title>\n<path fill=\"none\" stroke=\"#000000\" d=\"M211.6065,-103.9815C212.1316,-95.618 212.6854,-86.7965 213.2163,-78.3409\"/>\n<polygon fill=\"#000000\" stroke=\"#000000\" points=\"216.7154,-78.4634 213.8489,-68.2637 209.7291,-78.0247 216.7154,-78.4634\"/>\n</g>\n<!-- 5 -->\n<g id=\"node6\" class=\"node\">\n<title>5</title>\n<polygon fill=\"#f0b68d\" stroke=\"#000000\" points=\"429,-68 313,-68 313,0 429,0 429,-68\"/>\n<text text-anchor=\"middle\" x=\"371\" y=\"-52.8\" font-family=\"Helvetica,sans-Serif\" font-size=\"14.00\" fill=\"#000000\">gini = 0.417</text>\n<text text-anchor=\"middle\" x=\"371\" y=\"-37.8\" font-family=\"Helvetica,sans-Serif\" font-size=\"14.00\" fill=\"#000000\">samples = 64</text>\n<text text-anchor=\"middle\" x=\"371\" y=\"-22.8\" font-family=\"Helvetica,sans-Serif\" font-size=\"14.00\" fill=\"#000000\">value = [45, 19]</text>\n<text text-anchor=\"middle\" x=\"371\" y=\"-7.8\" font-family=\"Helvetica,sans-Serif\" font-size=\"14.00\" fill=\"#000000\">class = 0</text>\n</g>\n<!-- 4&#45;&gt;5 -->\n<g id=\"edge5\" class=\"edge\">\n<title>4&#45;&gt;5</title>\n<path fill=\"none\" stroke=\"#000000\" d=\"M375.3935,-103.9815C374.8684,-95.618 374.3146,-86.7965 373.7837,-78.3409\"/>\n<polygon fill=\"#000000\" stroke=\"#000000\" points=\"377.2709,-78.0247 373.1511,-68.2637 370.2846,-78.4634 377.2709,-78.0247\"/>\n</g>\n<!-- 6 -->\n<g id=\"node7\" class=\"node\">\n<title>6</title>\n<polygon fill=\"#e78c4b\" stroke=\"#000000\" points=\"571,-68 447,-68 447,0 571,0 571,-68\"/>\n<text text-anchor=\"middle\" x=\"509\" y=\"-52.8\" font-family=\"Helvetica,sans-Serif\" font-size=\"14.00\" fill=\"#000000\">gini = 0.15</text>\n<text text-anchor=\"middle\" x=\"509\" y=\"-37.8\" font-family=\"Helvetica,sans-Serif\" font-size=\"14.00\" fill=\"#000000\">samples = 330</text>\n<text text-anchor=\"middle\" x=\"509\" y=\"-22.8\" font-family=\"Helvetica,sans-Serif\" font-size=\"14.00\" fill=\"#000000\">value = [303, 27]</text>\n<text text-anchor=\"middle\" x=\"509\" y=\"-7.8\" font-family=\"Helvetica,sans-Serif\" font-size=\"14.00\" fill=\"#000000\">class = 0</text>\n</g>\n<!-- 4&#45;&gt;6 -->\n<g id=\"edge6\" class=\"edge\">\n<title>4&#45;&gt;6</title>\n<path fill=\"none\" stroke=\"#000000\" d=\"M426.7796,-103.9815C437.9015,-94.5151 449.7128,-84.462 460.8099,-75.0168\"/>\n<polygon fill=\"#000000\" stroke=\"#000000\" points=\"463.3975,-77.4105 468.744,-68.2637 458.8604,-72.08 463.3975,-77.4105\"/>\n</g>\n</g>\n</svg>\n"
          },
          "metadata": {}
        }
      ],
      "execution_count": null,
      "metadata": {
        "colab": {
          "base_uri": "https://localhost:8080/",
          "height": 441
        },
        "id": "ICp72OfaWbZi",
        "outputId": "18bbf75d-8598-46df-f659-809b759f9826"
      }
    },
    {
      "cell_type": "code",
      "source": [
        "text_representation = tree.export_text(clf.best_estimator_)\n",
        "print(text_representation)"
      ],
      "outputs": [
        {
          "output_type": "stream",
          "name": "stdout",
          "text": "|--- feature_9 <= 0.50\n|   |--- feature_0 <= 22.50\n|   |   |--- class: 0\n|   |--- feature_0 >  22.50\n|   |   |--- class: 1\n|--- feature_9 >  0.50\n|   |--- feature_31 <= 0.50\n|   |   |--- class: 0\n|   |--- feature_31 >  0.50\n|   |   |--- class: 0\n\n"
        }
      ],
      "execution_count": null,
      "metadata": {
        "colab": {
          "base_uri": "https://localhost:8080/"
        },
        "id": "IaObedKqVtME",
        "outputId": "08dcd402-c1af-4af9-d06a-a2fbbf4432f7"
      }
    }
  ],
  "metadata": {
    "colab": {
      "name": "ML_Lab4_200968009_SaiAnishMalla.ipynb",
      "provenance": [],
      "collapsed_sections": []
    },
    "kernelspec": {
      "name": "python3",
      "display_name": "Python 3"
    },
    "language_info": {
      "name": "python"
    },
    "nteract": {
      "version": "nteract-front-end@1.0.0"
    }
  },
  "nbformat": 4,
  "nbformat_minor": 0
}