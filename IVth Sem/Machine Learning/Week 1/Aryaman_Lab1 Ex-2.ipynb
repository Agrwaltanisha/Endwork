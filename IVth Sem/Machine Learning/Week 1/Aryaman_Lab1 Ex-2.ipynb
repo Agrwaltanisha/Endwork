{
  "cells": [
    {
      "cell_type": "code",
      "source": [
        "import pandas as pd\n",
        "import numpy as np"
      ],
      "outputs": [],
      "execution_count": 15,
      "metadata": {},
      "id": "fa71f931"
    },
    {
      "cell_type": "code",
      "source": [
        "df = pd.read_csv(\"boston.csv\")\n",
        "df"
      ],
      "outputs": [
        {
          "output_type": "execute_result",
          "execution_count": 2,
          "data": {
            "text/html": "<div>\n<style scoped>\n    .dataframe tbody tr th:only-of-type {\n        vertical-align: middle;\n    }\n\n    .dataframe tbody tr th {\n        vertical-align: top;\n    }\n\n    .dataframe thead th {\n        text-align: right;\n    }\n</style>\n<table border=\"1\" class=\"dataframe\">\n  <thead>\n    <tr style=\"text-align: right;\">\n      <th></th>\n      <th>Unnamed: 0</th>\n      <th>crim</th>\n      <th>zn</th>\n      <th>indus</th>\n      <th>chas</th>\n      <th>nox</th>\n      <th>rm</th>\n      <th>age</th>\n      <th>dis</th>\n      <th>rad</th>\n      <th>tax</th>\n      <th>ptratio</th>\n      <th>black</th>\n      <th>lstat</th>\n      <th>medv</th>\n    </tr>\n  </thead>\n  <tbody>\n    <tr>\n      <th>0</th>\n      <td>1</td>\n      <td>0.00632</td>\n      <td>18.0</td>\n      <td>2.31</td>\n      <td>0</td>\n      <td>0.538</td>\n      <td>6.575</td>\n      <td>65.2</td>\n      <td>4.0900</td>\n      <td>1</td>\n      <td>296</td>\n      <td>15.3</td>\n      <td>396.90</td>\n      <td>4.98</td>\n      <td>24.0</td>\n    </tr>\n    <tr>\n      <th>1</th>\n      <td>2</td>\n      <td>0.02731</td>\n      <td>0.0</td>\n      <td>7.07</td>\n      <td>0</td>\n      <td>0.469</td>\n      <td>6.421</td>\n      <td>78.9</td>\n      <td>4.9671</td>\n      <td>2</td>\n      <td>242</td>\n      <td>17.8</td>\n      <td>396.90</td>\n      <td>9.14</td>\n      <td>21.6</td>\n    </tr>\n    <tr>\n      <th>2</th>\n      <td>3</td>\n      <td>0.02729</td>\n      <td>0.0</td>\n      <td>7.07</td>\n      <td>0</td>\n      <td>0.469</td>\n      <td>7.185</td>\n      <td>61.1</td>\n      <td>4.9671</td>\n      <td>2</td>\n      <td>242</td>\n      <td>17.8</td>\n      <td>392.83</td>\n      <td>4.03</td>\n      <td>34.7</td>\n    </tr>\n    <tr>\n      <th>3</th>\n      <td>4</td>\n      <td>0.03237</td>\n      <td>0.0</td>\n      <td>2.18</td>\n      <td>0</td>\n      <td>0.458</td>\n      <td>6.998</td>\n      <td>45.8</td>\n      <td>6.0622</td>\n      <td>3</td>\n      <td>222</td>\n      <td>18.7</td>\n      <td>394.63</td>\n      <td>2.94</td>\n      <td>33.4</td>\n    </tr>\n    <tr>\n      <th>4</th>\n      <td>5</td>\n      <td>0.06905</td>\n      <td>0.0</td>\n      <td>2.18</td>\n      <td>0</td>\n      <td>0.458</td>\n      <td>7.147</td>\n      <td>54.2</td>\n      <td>6.0622</td>\n      <td>3</td>\n      <td>222</td>\n      <td>18.7</td>\n      <td>396.90</td>\n      <td>5.33</td>\n      <td>36.2</td>\n    </tr>\n    <tr>\n      <th>...</th>\n      <td>...</td>\n      <td>...</td>\n      <td>...</td>\n      <td>...</td>\n      <td>...</td>\n      <td>...</td>\n      <td>...</td>\n      <td>...</td>\n      <td>...</td>\n      <td>...</td>\n      <td>...</td>\n      <td>...</td>\n      <td>...</td>\n      <td>...</td>\n      <td>...</td>\n    </tr>\n    <tr>\n      <th>501</th>\n      <td>502</td>\n      <td>0.06263</td>\n      <td>0.0</td>\n      <td>11.93</td>\n      <td>0</td>\n      <td>0.573</td>\n      <td>6.593</td>\n      <td>69.1</td>\n      <td>2.4786</td>\n      <td>1</td>\n      <td>273</td>\n      <td>21.0</td>\n      <td>391.99</td>\n      <td>9.67</td>\n      <td>22.4</td>\n    </tr>\n    <tr>\n      <th>502</th>\n      <td>503</td>\n      <td>0.04527</td>\n      <td>0.0</td>\n      <td>11.93</td>\n      <td>0</td>\n      <td>0.573</td>\n      <td>6.120</td>\n      <td>76.7</td>\n      <td>2.2875</td>\n      <td>1</td>\n      <td>273</td>\n      <td>21.0</td>\n      <td>396.90</td>\n      <td>9.08</td>\n      <td>20.6</td>\n    </tr>\n    <tr>\n      <th>503</th>\n      <td>504</td>\n      <td>0.06076</td>\n      <td>0.0</td>\n      <td>11.93</td>\n      <td>0</td>\n      <td>0.573</td>\n      <td>6.976</td>\n      <td>91.0</td>\n      <td>2.1675</td>\n      <td>1</td>\n      <td>273</td>\n      <td>21.0</td>\n      <td>396.90</td>\n      <td>5.64</td>\n      <td>23.9</td>\n    </tr>\n    <tr>\n      <th>504</th>\n      <td>505</td>\n      <td>0.10959</td>\n      <td>0.0</td>\n      <td>11.93</td>\n      <td>0</td>\n      <td>0.573</td>\n      <td>6.794</td>\n      <td>89.3</td>\n      <td>2.3889</td>\n      <td>1</td>\n      <td>273</td>\n      <td>21.0</td>\n      <td>393.45</td>\n      <td>6.48</td>\n      <td>22.0</td>\n    </tr>\n    <tr>\n      <th>505</th>\n      <td>506</td>\n      <td>0.04741</td>\n      <td>0.0</td>\n      <td>11.93</td>\n      <td>0</td>\n      <td>0.573</td>\n      <td>6.030</td>\n      <td>80.8</td>\n      <td>2.5050</td>\n      <td>1</td>\n      <td>273</td>\n      <td>21.0</td>\n      <td>396.90</td>\n      <td>7.88</td>\n      <td>11.9</td>\n    </tr>\n  </tbody>\n</table>\n<p>506 rows × 15 columns</p>\n</div>",
            "text/plain": "     Unnamed: 0     crim    zn  indus  chas    nox     rm   age     dis  rad  \\\n0             1  0.00632  18.0   2.31     0  0.538  6.575  65.2  4.0900    1   \n1             2  0.02731   0.0   7.07     0  0.469  6.421  78.9  4.9671    2   \n2             3  0.02729   0.0   7.07     0  0.469  7.185  61.1  4.9671    2   \n3             4  0.03237   0.0   2.18     0  0.458  6.998  45.8  6.0622    3   \n4             5  0.06905   0.0   2.18     0  0.458  7.147  54.2  6.0622    3   \n..          ...      ...   ...    ...   ...    ...    ...   ...     ...  ...   \n501         502  0.06263   0.0  11.93     0  0.573  6.593  69.1  2.4786    1   \n502         503  0.04527   0.0  11.93     0  0.573  6.120  76.7  2.2875    1   \n503         504  0.06076   0.0  11.93     0  0.573  6.976  91.0  2.1675    1   \n504         505  0.10959   0.0  11.93     0  0.573  6.794  89.3  2.3889    1   \n505         506  0.04741   0.0  11.93     0  0.573  6.030  80.8  2.5050    1   \n\n     tax  ptratio   black  lstat  medv  \n0    296     15.3  396.90   4.98  24.0  \n1    242     17.8  396.90   9.14  21.6  \n2    242     17.8  392.83   4.03  34.7  \n3    222     18.7  394.63   2.94  33.4  \n4    222     18.7  396.90   5.33  36.2  \n..   ...      ...     ...    ...   ...  \n501  273     21.0  391.99   9.67  22.4  \n502  273     21.0  396.90   9.08  20.6  \n503  273     21.0  396.90   5.64  23.9  \n504  273     21.0  393.45   6.48  22.0  \n505  273     21.0  396.90   7.88  11.9  \n\n[506 rows x 15 columns]"
          },
          "metadata": {}
        }
      ],
      "execution_count": 2,
      "metadata": {},
      "id": "a57eb424"
    },
    {
      "cell_type": "code",
      "source": [
        "#Q1 Use the boston.csv dataset and determine the best 5 features to predict ‘MEDV’.\n",
        "sorted_corr = df[df.columns[1:]].corr()['medv'][:-1]\n",
        "print(\"From the list we can see that lstat, rm, ptratio, indus and tax are the best 5 features to predict medv\")\n",
        "sorted_corr.reindex(sorted_corr.abs().sort_values().index)"
      ],
      "outputs": [
        {
          "output_type": "stream",
          "name": "stdout",
          "text": "From the list we can see that lstat, rm, ptratio, indus and tax are the best 5 features to predict medv\n"
        },
        {
          "output_type": "execute_result",
          "execution_count": 21,
          "data": {
            "text/plain": "chas       0.175260\ndis        0.249929\nblack      0.333461\nzn         0.360445\nage       -0.376955\nrad       -0.381626\ncrim      -0.388305\nnox       -0.427321\ntax       -0.468536\nindus     -0.483725\nptratio   -0.507787\nrm         0.695360\nlstat     -0.737663\nName: medv, dtype: float64"
          },
          "metadata": {}
        }
      ],
      "execution_count": 21,
      "metadata": {},
      "id": "8e5eeb4a"
    },
    {
      "cell_type": "code",
      "source": [
        "#Q2 Using sklearn.linear_model, find the multiple regression model for the \n",
        "#boston.csv dataset using the best 3 features\n",
        "from sklearn.linear_model import LinearRegression\n",
        "print(\"We know that lstat, rm and ptratio are the best 3 features to predict medv so we use multiple regression model involving those three\")\n",
        "x = df[['lstat', 'rm', 'ptratio']].copy()\n",
        "y = df['medv']"
      ],
      "outputs": [
        {
          "output_type": "stream",
          "name": "stdout",
          "text": "We know that lstat, rm and ptratio are the best 3 features to predict medv so we use multiple regression model involving those three\n"
        }
      ],
      "execution_count": 26,
      "metadata": {},
      "id": "9ed14481"
    },
    {
      "cell_type": "code",
      "source": [
        "#Q3 Find the accuracy of the model using appropriate metrics using 80, 20 split for \n",
        "#training and test\n",
        "from sklearn.model_selection import train_test_split\n",
        "x_train, x_test, y_train, y_test = train_test_split(x, y, test_size = 0.2, random_state = 34)"
      ],
      "outputs": [],
      "execution_count": 36,
      "metadata": {},
      "id": "83a11298"
    },
    {
      "cell_type": "code",
      "source": [
        "linreg = LinearRegression()\n",
        "# fitting the training data\n",
        "linreg.fit(x_train,y_train)"
      ],
      "outputs": [
        {
          "output_type": "execute_result",
          "execution_count": 37,
          "data": {
            "text/plain": "LinearRegression()"
          },
          "metadata": {}
        }
      ],
      "execution_count": 37,
      "metadata": {},
      "id": "f00e2187"
    },
    {
      "cell_type": "code",
      "source": [
        "y_prediction = linreg.predict(x_test)"
      ],
      "outputs": [],
      "execution_count": 38,
      "metadata": {},
      "id": "5f8922fb"
    },
    {
      "cell_type": "code",
      "source": [
        "from sklearn.metrics import r2_score\n",
        "from sklearn.metrics import mean_squared_error\n",
        "r2s = r2_score(y_test,y_prediction)\n",
        "mse = mean_squared_error(y_test,y_prediction)\n",
        "print('R2 score =',r2s)\n",
        "print('Mean Squared Error =', mse)\n",
        "print('Root Mean Squared Error =', np.sqrt(mean_squared_error(y_test,y_prediction)))"
      ],
      "outputs": [
        {
          "output_type": "stream",
          "name": "stdout",
          "text": "R2 score = 0.6742567149507563\nMean Squared Error = 26.84295993993752\nRoot Mean Squared Error = 5.181019198954731\n"
        }
      ],
      "execution_count": 39,
      "metadata": {},
      "id": "16f20027"
    },
    {
      "cell_type": "code",
      "source": [],
      "outputs": [],
      "execution_count": null,
      "metadata": {},
      "id": "1d984f28"
    }
  ],
  "metadata": {
    "kernelspec": {
      "display_name": "Python 3 (ipykernel)",
      "language": "python",
      "name": "python3"
    },
    "language_info": {
      "codemirror_mode": {
        "name": "ipython",
        "version": 3
      },
      "file_extension": ".py",
      "mimetype": "text/x-python",
      "name": "python",
      "nbconvert_exporter": "python",
      "pygments_lexer": "ipython3",
      "version": "3.9.7"
    },
    "nteract": {
      "version": "nteract-front-end@1.0.0"
    }
  },
  "nbformat": 4,
  "nbformat_minor": 5
}